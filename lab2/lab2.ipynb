{
 "cells": [
  {
   "cell_type": "markdown",
   "metadata": {},
   "source": [
    "Parts of this assignment will be **automatically graded**. Please take note of the following:\n",
    "- Before you turn this problem in, make sure everything runs as expected. First, **restart the kernel** (in the menubar, select Kernel$\\rightarrow$Restart) and then **run all cells** (in the menubar, select Cell$\\rightarrow$Run All).\n",
    "- You can add additional cells, but it is not recommended to (re)move cells. Cells required for autograding cannot be moved and cells containing tests cannot be edited.\n",
    "- You are allowed to use a service such as [Google Colaboratory](https://colab.research.google.com/) to work together. However, you **cannot** hand in the notebook that was hosted on Google Colaboratory, but you need to copy your answers into the original notebook and verify that it runs succesfully offline. This is because Google Colaboratory destroys the metadata required for grading.\n",
    "- Name your notebook **exactly** `{TA_name}_{student1_id}_{student2_id}_lab{i}.ipynb`, for example `wouter_12345_67890_lab1.ipynb` (or elise or stephan, depending on your TA), **otherwise your submission will be skipped by our regex and you will get 0 points** (but no penalty as we cannot parse your student ids ;)).\n",
    "\n",
    "Make sure you fill in any place that says `YOUR CODE HERE` or \"YOUR ANSWER HERE\", as well as your names below:"
   ]
  },
  {
   "cell_type": "code",
   "execution_count": null,
   "metadata": {},
   "outputs": [],
   "source": [
    "NAMES = \"Arend van Dormalen and Oscar Ligthart\""
   ]
  },
  {
   "cell_type": "markdown",
   "metadata": {},
   "source": [
    "---"
   ]
  },
  {
   "cell_type": "code",
   "execution_count": 6,
   "metadata": {
    "deletable": false,
    "editable": false,
    "nbgrader": {
     "checksum": "931b3dfcc3a02b92b499929fb27299cb",
     "grade": false,
     "grade_id": "cell-fc69f22067705372",
     "locked": true,
     "schema_version": 1,
     "solution": false
    }
   },
   "outputs": [],
   "source": [
    "%matplotlib inline\n",
    "import os\n",
    "import numpy as np\n",
    "import matplotlib.pyplot as plt\n",
    "import sys\n",
    "import torch\n",
    "from torch import nn\n",
    "import torch.nn.functional as F\n",
    "from torch import optim\n",
    "from tqdm import tqdm as _tqdm\n",
    "\n",
    "def tqdm(*args, **kwargs):\n",
    "    return _tqdm(*args, **kwargs, mininterval=1)  # Safety, do not overflow buffer\n",
    "\n",
    "EPS = float(np.finfo(np.float32).eps)\n",
    "\n",
    "assert sys.version_info[:3] >= (3, 6, 0), \"Make sure you have Python 3.6 installed!\""
   ]
  },
  {
   "cell_type": "markdown",
   "metadata": {
    "deletable": false,
    "editable": false,
    "nbgrader": {
     "checksum": "e83ecfc2751cf2e6ff05d0c01d311673",
     "grade": false,
     "grade_id": "cell-fef7e20e54e6243b",
     "locked": true,
     "schema_version": 1,
     "solution": false
    }
   },
   "source": [
    "---\n",
    "## 1. Deep Q-Network (DQN) (10 (+ 2 bonus) points)"
   ]
  },
  {
   "cell_type": "code",
   "execution_count": 7,
   "metadata": {
    "deletable": false,
    "editable": false,
    "nbgrader": {
     "checksum": "e27fe8f72a248bbcf1f7a21e5550e657",
     "grade": true,
     "grade_id": "cell-39519f4ab05eb2a1",
     "locked": true,
     "points": 0,
     "schema_version": 1,
     "solution": false
    }
   },
   "outputs": [],
   "source": [
    "import gym\n",
    "env = gym.envs.make(\"CartPole-v0\")"
   ]
  },
  {
   "cell_type": "code",
   "execution_count": 8,
   "metadata": {},
   "outputs": [],
   "source": [
    "# env is a TimeLimit wrapper around an env, so use env.env to look into the env (but otherwise you can forget about this)\n",
    "??env.env"
   ]
  },
  {
   "cell_type": "code",
   "execution_count": 9,
   "metadata": {},
   "outputs": [],
   "source": [
    "import time\n",
    "# The nice thing about the CARTPOLE is that it has very nice rendering functionality (if you are on a local environment). Let's have a look at an episode\n",
    "obs = env.reset()\n",
    "env.render()\n",
    "done = False\n",
    "while not done:\n",
    "    obs, reward, done, _ = env.step(env.action_space.sample())\n",
    "    env.render()\n",
    "    time.sleep(0.05)\n",
    "env.close()  # Close the environment or you will have a lot of render screens soon"
   ]
  },
  {
   "cell_type": "markdown",
   "metadata": {
    "deletable": false,
    "editable": false,
    "nbgrader": {
     "checksum": "11a9c014ee5fbe790ce999428cc22658",
     "grade": false,
     "grade_id": "cell-2d83f70e62b99520",
     "locked": true,
     "schema_version": 1,
     "solution": false
    }
   },
   "source": [
    "Remember from the previous lab, that in order to optimize a policy we need to estimate the Q-values (e.g. estimate the *action* values). In the CartPole problem, our state is current position of the cart, the current velocity of the cart, the current (angular) position of the pole and the (angular) speed of the pole. As these are continuous variables, we have an infinite number of states (ignoring the fact that a digital computer can only represent finitely many states in finite memory)."
   ]
  },
  {
   "cell_type": "markdown",
   "metadata": {
    "deletable": false,
    "editable": false,
    "nbgrader": {
     "checksum": "9692b7acb09d018d9f80ce95685b81d5",
     "grade": false,
     "grade_id": "cell-bf2ac21267daffbb",
     "locked": true,
     "schema_version": 1,
     "solution": false
    }
   },
   "source": [
    "Can you think of a way in which we can still use a tabular approach? Why would this work and can you think of an example problem where this would not work?"
   ]
  },
  {
   "cell_type": "markdown",
   "metadata": {
    "deletable": false,
    "nbgrader": {
     "checksum": "3ffce6fca4071a1b543186db1b74cc98",
     "grade": true,
     "grade_id": "cell-b0fa2cb0c2cd2a63",
     "locked": false,
     "points": 1,
     "schema_version": 1,
     "solution": true
    }
   },
   "source": [
    "#### Our Answer\n",
    "\n",
    "\n",
    "Arend: We can discretize the continous variables by creating bins. Since there are only two possible actions, the differences in policy are likely to be small when there is small variation in the input data. The pole and cart speed have a range from infinite to negative infinite. For these variables we would have to create two special bins, in which everything larger or smaller than a certain value will be included. \n",
    "\n",
    "We are not able to use this approach when small variations have a large inpact, or when the policy that has to be learned is more complex. For example, [TODO]"
   ]
  },
  {
   "cell_type": "markdown",
   "metadata": {
    "deletable": false,
    "editable": false,
    "nbgrader": {
     "checksum": "cd66b44d93f348df1e0ef8353377c879",
     "grade": false,
     "grade_id": "cell-0b3162496f5e6cf5",
     "locked": true,
     "schema_version": 1,
     "solution": false
    }
   },
   "source": [
    "### 1.1 Implement Q-Network"
   ]
  },
  {
   "cell_type": "markdown",
   "metadata": {
    "deletable": false,
    "editable": false,
    "nbgrader": {
     "checksum": "84b9c38718c952ef8e62486fc9bf5e4a",
     "grade": false,
     "grade_id": "cell-96a86bcfa1ebc84a",
     "locked": true,
     "schema_version": 1,
     "solution": false
    }
   },
   "source": [
    "We will not use the tabular approach but approximate the Q-value function by a general approximator function. We will skip the linear case and directly use a two layer Neural Network. We use [PyTorch](https://pytorch.org/) to implement the network, as this will allow us to train it easily later. We can implement a model using `torch.nn.Sequential`, but with PyTorch it is actually very easy to implement the model (e.g. the forward pass) from scratch. Now implement the `QNetwork.forward` function that uses one hidden layer with ReLU activation (no output activation)."
   ]
  },
  {
   "cell_type": "code",
   "execution_count": 10,
   "metadata": {
    "deletable": false,
    "nbgrader": {
     "checksum": "4ef7d14363dc2aa4beb638856c57a58c",
     "grade": false,
     "grade_id": "cell-216429a5dccf8a0e",
     "locked": false,
     "schema_version": 1,
     "solution": true
    }
   },
   "outputs": [],
   "source": [
    "class QNetwork(nn.Module):\n",
    "    \n",
    "    def __init__(self, num_hidden=128):\n",
    "        nn.Module.__init__(self)\n",
    "        self.l1 = nn.Linear(4, num_hidden)\n",
    "        self.l2 = nn.Linear(num_hidden, 2)\n",
    "\n",
    "    def forward(self, x):\n",
    "        x = F.relu(self.l1(x))\n",
    "        x = self.l2(x)\n",
    "        return x"
   ]
  },
  {
   "cell_type": "code",
   "execution_count": 11,
   "metadata": {
    "deletable": false,
    "editable": false,
    "nbgrader": {
     "checksum": "2b9a48f9aee9ebc46da01c6f11cd789a",
     "grade": true,
     "grade_id": "cell-00ce108d640a5942",
     "locked": true,
     "points": 1,
     "schema_version": 1,
     "solution": false
    }
   },
   "outputs": [],
   "source": [
    "# Let's instantiate and test if it works\n",
    "num_hidden = 128\n",
    "torch.manual_seed(1234)\n",
    "model = QNetwork(num_hidden)\n",
    "\n",
    "torch.manual_seed(1234)\n",
    "test_model = nn.Sequential(\n",
    "    nn.Linear(4, num_hidden), \n",
    "    nn.ReLU(), \n",
    "    nn.Linear(num_hidden, 2)\n",
    ")\n",
    "\n",
    "x = torch.rand(10, 4)\n",
    "\n",
    "# If you do not need backpropagation, wrap the computation in the torch.no_grad() context\n",
    "# This saves time and memory, and PyTorch complaints when converting to numpy\n",
    "with torch.no_grad():\n",
    "    assert np.allclose(model(x).numpy(), test_model(x).numpy())"
   ]
  },
  {
   "cell_type": "markdown",
   "metadata": {
    "deletable": false,
    "editable": false,
    "nbgrader": {
     "checksum": "7fc82889691dbd60ff9469b770744fcc",
     "grade": false,
     "grade_id": "cell-ca77eae2e62180cf",
     "locked": true,
     "schema_version": 1,
     "solution": false
    }
   },
   "source": [
    "### 1.2 Experience Replay"
   ]
  },
  {
   "cell_type": "markdown",
   "metadata": {
    "deletable": false,
    "editable": false,
    "nbgrader": {
     "checksum": "5b3265bef151a12fe6969c378af76be2",
     "grade": false,
     "grade_id": "cell-b5b012e42dd2029e",
     "locked": true,
     "schema_version": 1,
     "solution": false
    }
   },
   "source": [
    "What could be a problem with doing gradient updates on a sequence of state, action pairs $((s_t, a_t), (s_{t+1}, a_{t+1}) ...)$ observed while interacting with the environment? How will using *experience replay* help to overcome this (potential problem)?"
   ]
  },
  {
   "cell_type": "markdown",
   "metadata": {
    "deletable": false,
    "nbgrader": {
     "checksum": "75e1a8b00b2bfa9b7dd8805b371c6a4e",
     "grade": true,
     "grade_id": "cell-70a2e59541668a25",
     "locked": false,
     "points": 1,
     "schema_version": 1,
     "solution": true
    }
   },
   "source": [
    "#### Our Answer\n",
    "\n",
    "[TO CHECK]\n",
    "Arend:\n",
    "\n",
    "One possible problem is that state-action pairs that are observed while interacting with the environment have strong temporal correlations. All samples are taken right after another. In many cases, the same action would be optimal.\n",
    "For example, a RL racecar going on a long straight section might learn to assign a very high value to going straight and will also attempt to go straight on curves. \n",
    "\n",
    "Experience replay prevents us from being fixated on a single region of the state-space, as the data from the experience replay will be sampled from all visited regions instead of the current region. By keeping the data diverse, it prevents reinforcing the same action.\n",
    "\n",
    "\n"
   ]
  },
  {
   "cell_type": "markdown",
   "metadata": {
    "deletable": false,
    "editable": false,
    "nbgrader": {
     "checksum": "9b3bbd8aaf3aade515736d0d07917a61",
     "grade": false,
     "grade_id": "cell-2c1d117a1a75fd69",
     "locked": true,
     "schema_version": 1,
     "solution": false
    }
   },
   "source": [
    "Now implement the `push` function that adds a transition to the replay buffer, and the sample function that returns a batch of samples. It should keep at most the maximum number of transitions. Also implement the `sample` function that samples a (random!) batch of data, for use during training (hint: you can use the function `random.sample`)."
   ]
  },
  {
   "cell_type": "code",
   "execution_count": 12,
   "metadata": {
    "deletable": false,
    "nbgrader": {
     "checksum": "93a9f55f3950fe63b44aa84c5fd7f793",
     "grade": false,
     "grade_id": "cell-a3cc876e51eb157f",
     "locked": false,
     "schema_version": 1,
     "solution": true
    }
   },
   "outputs": [],
   "source": [
    "import random\n",
    "class ReplayMemory:\n",
    "    \n",
    "    def __init__(self, capacity):\n",
    "        self.capacity = capacity\n",
    "        self.memory = []\n",
    "\n",
    "    def push(self, transition):\n",
    "        \n",
    "        if len(self.memory) == self.capacity:\n",
    "            del self.memory[0]\n",
    "            \n",
    "        self.memory.append(transition)\n",
    "\n",
    "    def sample(self, batch_size):\n",
    "        return random.sample(self.memory, batch_size)\n",
    "\n",
    "    def __len__(self):\n",
    "        return len(self.memory)"
   ]
  },
  {
   "cell_type": "code",
   "execution_count": 13,
   "metadata": {
    "deletable": false,
    "editable": false,
    "nbgrader": {
     "checksum": "6865749b3a8810bdaaf1604a9cea42e7",
     "grade": true,
     "grade_id": "cell-3b90135921c4da76",
     "locked": true,
     "points": 1,
     "schema_version": 1,
     "solution": false
    }
   },
   "outputs": [
    {
     "name": "stdout",
     "output_type": "stream",
     "text": [
      "[(array([-0.02467716,  0.03137446,  0.04458455,  0.01766512]), 0, 1.0, array([-0.02404967, -0.16435759,  0.04493785,  0.32407495]), False)]\n"
     ]
    }
   ],
   "source": [
    "capacity = 10\n",
    "memory = ReplayMemory(capacity)\n",
    "\n",
    "# Sample a transition\n",
    "s = env.reset()\n",
    "a = env.action_space.sample()\n",
    "s_next, r, done, _ = env.step(a)\n",
    "\n",
    "# Push a transition\n",
    "memory.push((s, a, r, s_next, done))\n",
    "\n",
    "# Sample a batch size of 1\n",
    "print(memory.sample(1))\n"
   ]
  },
  {
   "cell_type": "markdown",
   "metadata": {
    "deletable": false,
    "editable": false,
    "nbgrader": {
     "checksum": "3c742d499c0f9b7f10d1c0c3a085236a",
     "grade": false,
     "grade_id": "cell-88f67e3c051da6a9",
     "locked": true,
     "schema_version": 1,
     "solution": false
    }
   },
   "source": [
    "### 1.3 $\\epsilon$psilon greedy policy"
   ]
  },
  {
   "cell_type": "markdown",
   "metadata": {
    "deletable": false,
    "editable": false,
    "nbgrader": {
     "checksum": "61d26d0dec0133f2aa737ed4711d6e08",
     "grade": false,
     "grade_id": "cell-aa3c7d1b3000f697",
     "locked": true,
     "schema_version": 1,
     "solution": false
    }
   },
   "source": [
    "In order to learn a good policy, we need to explore quite a bit initially. As we start to learn a good policy, we want to decrease the exploration. As the amount of exploration using an $\\epsilon$-greedy policy is controlled by $\\epsilon$, we can define an 'exploration scheme' by writing $\\epsilon$ as a function of time. There are many possible schemes, but we will use a simple one: we will start with only exploring (so taking random actions) at iteration 0, and then in 1000 iterations linearly anneal $\\epsilon$ such that after 1000 iterations we take random (exploration) actions with 5\\% probability (forever, as you never know if the environment will change)."
   ]
  },
  {
   "cell_type": "code",
   "execution_count": 9,
   "metadata": {
    "deletable": false,
    "nbgrader": {
     "checksum": "270ab31d4bb29dc9a05223c16a4967a7",
     "grade": false,
     "grade_id": "cell-5789e7a792108576",
     "locked": false,
     "schema_version": 1,
     "solution": true
    }
   },
   "outputs": [],
   "source": [
    "def get_epsilon(it):\n",
    "    \n",
    "    # random actions at first,\n",
    "    if it >= 1000:\n",
    "        epsilon = 0.05\n",
    "    else:\n",
    "        epsilon = 1 - 0.95 * it * (1/1000) \n",
    "    \n",
    "    # after 1000 iterations, e-greedy with epsilon being 0.5\n",
    "    return epsilon"
   ]
  },
  {
   "cell_type": "code",
   "execution_count": 10,
   "metadata": {
    "deletable": false,
    "editable": false,
    "nbgrader": {
     "checksum": "b1a81dd07e1b7a98d2cd06ebc171ebdd",
     "grade": true,
     "grade_id": "cell-40e66db45e742b2e",
     "locked": true,
     "points": 1,
     "schema_version": 1,
     "solution": false
    }
   },
   "outputs": [
    {
     "data": {
      "text/plain": [
       "[<matplotlib.lines.Line2D at 0x7f9e72a5be10>]"
      ]
     },
     "execution_count": 10,
     "metadata": {},
     "output_type": "execute_result"
    },
    {
     "data": {
      "image/png": "[encoded data removed]",
      "text/plain": [
       "<Figure size 432x288 with 1 Axes>"
      ]
     },
     "metadata": {
      "needs_background": "light"
     },
     "output_type": "display_data"
    }
   ],
   "source": [
    "# So what's an easy way to check?\n",
    "plt.plot([get_epsilon(it) for it in range(5000)])\n"
   ]
  },
  {
   "cell_type": "markdown",
   "metadata": {
    "deletable": false,
    "editable": false,
    "nbgrader": {
     "checksum": "84685c23e4eb899d7fed3a87b7f8915e",
     "grade": false,
     "grade_id": "cell-a8b604c9998c6c3b",
     "locked": true,
     "schema_version": 1,
     "solution": false
    }
   },
   "source": [
    "Now write a function that takes a state and uses the Q-network to select an ($\\epsilon$-greedy) action. It should return a random action with probability epsilon (which we will pass later). Note, you do not need to backpropagate through the model computations, so use `with torch.no_grad():` (see above for example). Unlike numpy, PyTorch has no argmax function, but Google is your friend... Note that to convert a PyTorch tensor with only 1 element (0 dimensional) to a simple python scalar (int or float), you can use the '.item()' function."
   ]
  },
  {
   "cell_type": "code",
   "execution_count": 11,
   "metadata": {
    "deletable": false,
    "nbgrader": {
     "checksum": "882f51819100c850120e73340aec387d",
     "grade": false,
     "grade_id": "cell-878ad3a637cfb51c",
     "locked": false,
     "schema_version": 1,
     "solution": true
    }
   },
   "outputs": [],
   "source": [
    "def select_action(model, state, epsilon):\n",
    "    \n",
    "    actions = model(torch.FloatTensor(state))\n",
    "    values, indices = actions.max(0)\n",
    "\n",
    "    if random.random() < epsilon:\n",
    "        a = np.random.choice(range(len(actions))).item()\n",
    "    else:\n",
    "        a = indices.item()\n",
    "\n",
    "    return a"
   ]
  },
  {
   "cell_type": "code",
   "execution_count": 12,
   "metadata": {
    "deletable": false,
    "editable": false,
    "nbgrader": {
     "checksum": "21f939075cb0c8dde152dabf47568a9d",
     "grade": true,
     "grade_id": "cell-e895338d56bee477",
     "locked": true,
     "points": 1,
     "schema_version": 1,
     "solution": false
    }
   },
   "outputs": [
    {
     "name": "stdout",
     "output_type": "stream",
     "text": [
      "1\n"
     ]
    }
   ],
   "source": [
    "s = env.reset()\n",
    "a = select_action(model, s, 0.05)\n",
    "assert not torch.is_tensor(a)\n",
    "print (a)\n"
   ]
  },
  {
   "cell_type": "markdown",
   "metadata": {
    "deletable": false,
    "editable": false,
    "nbgrader": {
     "checksum": "5d00ab2e5e0b39257771d0e778fda2d6",
     "grade": false,
     "grade_id": "cell-ec5e94e0b03f8aec",
     "locked": true,
     "schema_version": 1,
     "solution": false
    }
   },
   "source": [
    "### 1.4 Training function"
   ]
  },
  {
   "cell_type": "markdown",
   "metadata": {
    "deletable": false,
    "editable": false,
    "nbgrader": {
     "checksum": "4839aac72a80552046ebecc40c1615cf",
     "grade": false,
     "grade_id": "cell-d1a12cc97386fe56",
     "locked": true,
     "schema_version": 1,
     "solution": false
    }
   },
   "source": [
    "Now we will implement the function 'train' that samples a batch from the memory and performs a gradient step using some convenient PyTorch functionality. However, you still need to compute the Q-values for the (state, action) pairs in the experience, as well as their target (e.g. the value they should move towards). What is the target for a Q-learning update? What should be the target if `next_state` is terminal (e.g. `done`)?\n",
    "\n",
    "For computing the Q-values for the actions, note that the model returns all action values where you are only interested in a single action value. Because of the batch dimension, you can't use simple indexing, but you may want to have a look at [torch.gather](https://pytorch.org/docs/stable/torch.html?highlight=gather#torch.gather) or use [advanced indexing](https://docs.scipy.org/doc/numpy-1.13.0/reference/arrays.indexing.html) (numpy tutorial but works mostly the same in PyTorch). Note, you should NOT modify the function train. You can view the size of a tensor `x` with `x.size()` (similar to `x.shape` in numpy)."
   ]
  },
  {
   "cell_type": "code",
   "execution_count": 21,
   "metadata": {
    "deletable": false,
    "nbgrader": {
     "checksum": "c466ee49add35cb1ec6a3e4a85f733c9",
     "grade": false,
     "grade_id": "cell-6c45485324b40081",
     "locked": false,
     "schema_version": 1,
     "solution": true
    }
   },
   "outputs": [],
   "source": [
    "def compute_q_val(model, state, action):\n",
    "\n",
    "    actions = model(state)\n",
    "\n",
    "    q_val = torch.gather(actions, 1, action.view(-1,1))\n",
    "\n",
    "    return q_val\n",
    "    \n",
    "    \n",
    "def compute_target(model, reward, next_state, done, discount_factor):\n",
    "    # done is a boolean (vector) that indicates if next_state is terminal (episode is done)\n",
    "    \n",
    "    actions = model(next_state)\n",
    "    _, indices = actions.max(1)\n",
    "\n",
    "    indices = torch.gather(actions, 1, indices.view(-1,1))\n",
    "    target = reward.view(indices.shape) + (discount_factor * indices)\n",
    "    # wat gebeurt er bij done?\n",
    "    \n",
    "    # set target to just the reward if next_state is terminal\n",
    "    target[done] = reward[done].view(target[done].shape)\n",
    "    return target\n",
    "    \n",
    "\n",
    "def train(model, memory, optimizer, batch_size, discount_factor):\n",
    "    # DO NOT MODIFY THIS FUNCTION\n",
    "    \n",
    "    # don't learn without some decent experience\n",
    "    if len(memory) < batch_size:\n",
    "        return None\n",
    "\n",
    "    # random transition batch is taken from experience replay memory\n",
    "    transitions = memory.sample(batch_size)\n",
    "    \n",
    "    # transition is a list of 4-tuples, instead we want 4 vectors (as torch.Tensor's)\n",
    "    state, action, reward, next_state, done = zip(*transitions)\n",
    "    \n",
    "    # convert to PyTorch and define types\n",
    "    state = torch.tensor(state, dtype=torch.float)\n",
    "    action = torch.tensor(action, dtype=torch.int64)  # Need 64 bit to use them as index\n",
    "    next_state = torch.tensor(next_state, dtype=torch.float)\n",
    "    reward = torch.tensor(reward, dtype=torch.float)\n",
    "    done = torch.tensor(done, dtype=torch.uint8)  # Boolean\n",
    "    \n",
    "    # compute the q value\n",
    "    q_val = compute_q_val(model, state, action)\n",
    "    \n",
    "    with torch.no_grad():  # Don't compute gradient info for the target (semi-gradient)\n",
    "        target = compute_target(model, reward, next_state, done, discount_factor)\n",
    "    \n",
    "    # loss is measured from error between current and newly expected Q values\n",
    "    loss = F.smooth_l1_loss(q_val, target)\n",
    "\n",
    "    # backpropagation of loss to Neural Network (PyTorch magic)\n",
    "    optimizer.zero_grad()\n",
    "    loss.backward()\n",
    "    optimizer.step()\n",
    "    \n",
    "    return loss.item()  # Returns a Python scalar, and releases history (similar to .detach())"
   ]
  },
  {
   "cell_type": "code",
   "execution_count": 22,
   "metadata": {
    "deletable": false,
    "editable": false,
    "nbgrader": {
     "checksum": "877c400001292b619e6871c1366524b9",
     "grade": true,
     "grade_id": "cell-b060b822eec4282f",
     "locked": true,
     "points": 2,
     "schema_version": 1,
     "solution": false
    }
   },
   "outputs": [
    {
     "ename": "ValueError",
     "evalue": "Sample larger than population or is negative",
     "output_type": "error",
     "traceback": [
      "\u001b[0;31m---------------------------------------------------------------------------\u001b[0m",
      "\u001b[0;31mValueError\u001b[0m                                Traceback (most recent call last)",
      "\u001b[0;32m<ipython-input-22-0c54261ded69>\u001b[0m in \u001b[0;36m<module>\u001b[0;34m()\u001b[0m\n\u001b[1;32m      7\u001b[0m \u001b[0;34m\u001b[0m\u001b[0m\n\u001b[1;32m      8\u001b[0m \u001b[0;31m# We need a larger memory, fill with dummy data\u001b[0m\u001b[0;34m\u001b[0m\u001b[0;34m\u001b[0m\u001b[0m\n\u001b[0;32m----> 9\u001b[0;31m \u001b[0mtransition\u001b[0m \u001b[0;34m=\u001b[0m \u001b[0mmemory\u001b[0m\u001b[0;34m.\u001b[0m\u001b[0msample\u001b[0m\u001b[0;34m(\u001b[0m\u001b[0;36m1\u001b[0m\u001b[0;34m)\u001b[0m\u001b[0;34m[\u001b[0m\u001b[0;36m0\u001b[0m\u001b[0;34m]\u001b[0m\u001b[0;34m\u001b[0m\u001b[0m\n\u001b[0m\u001b[1;32m     10\u001b[0m \u001b[0mmemory\u001b[0m \u001b[0;34m=\u001b[0m \u001b[0mReplayMemory\u001b[0m\u001b[0;34m(\u001b[0m\u001b[0;36m10\u001b[0m \u001b[0;34m*\u001b[0m \u001b[0mbatch_size\u001b[0m\u001b[0;34m)\u001b[0m\u001b[0;34m\u001b[0m\u001b[0m\n\u001b[1;32m     11\u001b[0m \u001b[0;32mfor\u001b[0m \u001b[0mi\u001b[0m \u001b[0;32min\u001b[0m \u001b[0mrange\u001b[0m\u001b[0;34m(\u001b[0m\u001b[0mbatch_size\u001b[0m\u001b[0;34m)\u001b[0m\u001b[0;34m:\u001b[0m\u001b[0;34m\u001b[0m\u001b[0m\n",
      "\u001b[0;32m<ipython-input-12-c9c33f45ea3e>\u001b[0m in \u001b[0;36msample\u001b[0;34m(self, batch_size)\u001b[0m\n\u001b[1;32m     14\u001b[0m \u001b[0;34m\u001b[0m\u001b[0m\n\u001b[1;32m     15\u001b[0m     \u001b[0;32mdef\u001b[0m \u001b[0msample\u001b[0m\u001b[0;34m(\u001b[0m\u001b[0mself\u001b[0m\u001b[0;34m,\u001b[0m \u001b[0mbatch_size\u001b[0m\u001b[0;34m)\u001b[0m\u001b[0;34m:\u001b[0m\u001b[0;34m\u001b[0m\u001b[0m\n\u001b[0;32m---> 16\u001b[0;31m         \u001b[0;32mreturn\u001b[0m \u001b[0mrandom\u001b[0m\u001b[0;34m.\u001b[0m\u001b[0msample\u001b[0m\u001b[0;34m(\u001b[0m\u001b[0mself\u001b[0m\u001b[0;34m.\u001b[0m\u001b[0mmemory\u001b[0m\u001b[0;34m,\u001b[0m \u001b[0mbatch_size\u001b[0m\u001b[0;34m)\u001b[0m\u001b[0;34m\u001b[0m\u001b[0m\n\u001b[0m\u001b[1;32m     17\u001b[0m \u001b[0;34m\u001b[0m\u001b[0m\n\u001b[1;32m     18\u001b[0m     \u001b[0;32mdef\u001b[0m \u001b[0m__len__\u001b[0m\u001b[0;34m(\u001b[0m\u001b[0mself\u001b[0m\u001b[0;34m)\u001b[0m\u001b[0;34m:\u001b[0m\u001b[0;34m\u001b[0m\u001b[0m\n",
      "\u001b[0;32m~/miniconda3/envs/rl2018/lib/python3.6/random.py\u001b[0m in \u001b[0;36msample\u001b[0;34m(self, population, k)\u001b[0m\n\u001b[1;32m    318\u001b[0m         \u001b[0mn\u001b[0m \u001b[0;34m=\u001b[0m \u001b[0mlen\u001b[0m\u001b[0;34m(\u001b[0m\u001b[0mpopulation\u001b[0m\u001b[0;34m)\u001b[0m\u001b[0;34m\u001b[0m\u001b[0m\n\u001b[1;32m    319\u001b[0m         \u001b[0;32mif\u001b[0m \u001b[0;32mnot\u001b[0m \u001b[0;36m0\u001b[0m \u001b[0;34m<=\u001b[0m \u001b[0mk\u001b[0m \u001b[0;34m<=\u001b[0m \u001b[0mn\u001b[0m\u001b[0;34m:\u001b[0m\u001b[0;34m\u001b[0m\u001b[0m\n\u001b[0;32m--> 320\u001b[0;31m             \u001b[0;32mraise\u001b[0m \u001b[0mValueError\u001b[0m\u001b[0;34m(\u001b[0m\u001b[0;34m\"Sample larger than population or is negative\"\u001b[0m\u001b[0;34m)\u001b[0m\u001b[0;34m\u001b[0m\u001b[0m\n\u001b[0m\u001b[1;32m    321\u001b[0m         \u001b[0mresult\u001b[0m \u001b[0;34m=\u001b[0m \u001b[0;34m[\u001b[0m\u001b[0;32mNone\u001b[0m\u001b[0;34m]\u001b[0m \u001b[0;34m*\u001b[0m \u001b[0mk\u001b[0m\u001b[0;34m\u001b[0m\u001b[0m\n\u001b[1;32m    322\u001b[0m         \u001b[0msetsize\u001b[0m \u001b[0;34m=\u001b[0m \u001b[0;36m21\u001b[0m        \u001b[0;31m# size of a small set minus size of an empty list\u001b[0m\u001b[0;34m\u001b[0m\u001b[0m\n",
      "\u001b[0;31mValueError\u001b[0m: Sample larger than population or is negative"
     ]
    }
   ],
   "source": [
    "# You may want to test your functions individually, but after you do so lets see if the method train works.\n",
    "batch_size = 64\n",
    "discount_factor = 0.8\n",
    "learn_rate = 1e-3\n",
    "# Simple gradient descent may take long, so we will use Adam\n",
    "optimizer = optim.Adam(model.parameters(), learn_rate)\n",
    "\n",
    "# We need a larger memory, fill with dummy data\n",
    "transition = memory.sample(1)[0]\n",
    "memory = ReplayMemory(10 * batch_size)\n",
    "for i in range(batch_size):\n",
    "    memory.push(transition)\n",
    "\n",
    "# Now let's see if it works\n",
    "loss = train(model, memory, optimizer, batch_size, discount_factor)\n",
    "\n",
    "print (loss)\n"
   ]
  },
  {
   "cell_type": "markdown",
   "metadata": {
    "deletable": false,
    "editable": false,
    "nbgrader": {
     "checksum": "2057dee580a43fb0442fe52557c0ac64",
     "grade": false,
     "grade_id": "cell-3eafd0ab49103f3b",
     "locked": true,
     "schema_version": 1,
     "solution": false
    }
   },
   "source": [
    "### 1.5 Put it all together"
   ]
  },
  {
   "cell_type": "markdown",
   "metadata": {
    "deletable": false,
    "editable": false,
    "nbgrader": {
     "checksum": "06dd71aae5c3c699f2b707b348a88107",
     "grade": false,
     "grade_id": "cell-36b8a04b393d8104",
     "locked": true,
     "schema_version": 1,
     "solution": false
    }
   },
   "source": [
    "Now that you have implemented the training step, you should be able to put everything together. Implement the function `run_episodes` that runs a number of episodes of DQN training. It should return the durations (e.g. number of steps) of each episode. Note: we pass the train function as an argument such that we can swap it for a different training step later."
   ]
  },
  {
   "cell_type": "code",
   "execution_count": 19,
   "metadata": {
    "deletable": false,
    "nbgrader": {
     "checksum": "c3f61b2ca270d84ab9b28d989dd65d4c",
     "grade": false,
     "grade_id": "cell-540a7d50ecc1d046",
     "locked": false,
     "schema_version": 1,
     "solution": true
    }
   },
   "outputs": [],
   "source": [
    "def run_episodes(train, model, memory, env, num_episodes, batch_size, discount_factor, learn_rate):\n",
    "    \n",
    "    optimizer = optim.Adam(model.parameters(), learn_rate)\n",
    "    \n",
    "    global_steps = 0  # Count the steps (do not reset at episode start, to compute epsilon)\n",
    "    episode_durations = []  #\n",
    "    for i in range(num_episodes):\n",
    "        \n",
    "        t = 0\n",
    "        state = env.reset()\n",
    "        \n",
    "        # Take actions until end of episode\n",
    "        for t in range(1000):\n",
    "            epsilon = get_epsilon(global_steps)\n",
    "            \n",
    "            action = select_action(model, state, epsilon)\n",
    "            \n",
    "            if i == num_episodes-1:\n",
    "                env.render()\n",
    "                time.sleep(0.05)\n",
    "                \n",
    "            next_state, reward, done, _ = env.step(action)\n",
    "            \n",
    "            memory.push((state, action, reward, next_state, done))\n",
    "            \n",
    "            # only sample if there is enough memory\n",
    "            if len(memory) > batch_size:\n",
    "                loss = train(model, memory, optimizer, batch_size, discount_factor)\n",
    "                \n",
    "            state = next_state  \n",
    "            global_steps += 1\n",
    "            \n",
    "            if done:\n",
    "                break\n",
    "                \n",
    "        episode_durations.append(t)\n",
    "        \n",
    "    print(episode_durations)\n",
    "    env.close()\n",
    "    return episode_durations"
   ]
  },
  {
   "cell_type": "code",
   "execution_count": 20,
   "metadata": {},
   "outputs": [
    {
     "ename": "NameError",
     "evalue": "name 'train' is not defined",
     "output_type": "error",
     "traceback": [
      "\u001b[0;31m---------------------------------------------------------------------------\u001b[0m",
      "\u001b[0;31mNameError\u001b[0m                                 Traceback (most recent call last)",
      "\u001b[0;32m<ipython-input-20-ad583e34abcb>\u001b[0m in \u001b[0;36m<module>\u001b[0;34m()\u001b[0m\n\u001b[1;32m     15\u001b[0m \u001b[0mmodel\u001b[0m \u001b[0;34m=\u001b[0m \u001b[0mQNetwork\u001b[0m\u001b[0;34m(\u001b[0m\u001b[0mnum_hidden\u001b[0m\u001b[0;34m)\u001b[0m\u001b[0;34m\u001b[0m\u001b[0m\n\u001b[1;32m     16\u001b[0m \u001b[0;34m\u001b[0m\u001b[0m\n\u001b[0;32m---> 17\u001b[0;31m \u001b[0mepisode_durations\u001b[0m \u001b[0;34m=\u001b[0m \u001b[0mrun_episodes\u001b[0m\u001b[0;34m(\u001b[0m\u001b[0mtrain\u001b[0m\u001b[0;34m,\u001b[0m \u001b[0mmodel\u001b[0m\u001b[0;34m,\u001b[0m \u001b[0mmemory\u001b[0m\u001b[0;34m,\u001b[0m \u001b[0menv\u001b[0m\u001b[0;34m,\u001b[0m \u001b[0mnum_episodes\u001b[0m\u001b[0;34m,\u001b[0m \u001b[0mbatch_size\u001b[0m\u001b[0;34m,\u001b[0m \u001b[0mdiscount_factor\u001b[0m\u001b[0;34m,\u001b[0m \u001b[0mlearn_rate\u001b[0m\u001b[0;34m)\u001b[0m\u001b[0;34m\u001b[0m\u001b[0m\n\u001b[0m",
      "\u001b[0;31mNameError\u001b[0m: name 'train' is not defined"
     ]
    }
   ],
   "source": [
    "# Let's run it!\n",
    "num_episodes = 100\n",
    "batch_size = 64\n",
    "discount_factor = 0.8\n",
    "learn_rate = 1e-3\n",
    "memory = ReplayMemory(10000)\n",
    "num_hidden = 128\n",
    "seed = 42  # This is not randomly chosen\n",
    "\n",
    "# We will seed the algorithm (before initializing QNetwork!) for reproducability\n",
    "random.seed(seed)\n",
    "torch.manual_seed(seed)\n",
    "env.seed(seed)\n",
    "\n",
    "model = QNetwork(num_hidden)\n",
    "\n",
    "episode_durations = run_episodes(train, model, memory, env, num_episodes, batch_size, discount_factor, learn_rate)"
   ]
  },
  {
   "cell_type": "code",
   "execution_count": 18,
   "metadata": {
    "deletable": false,
    "editable": false,
    "nbgrader": {
     "checksum": "70d16eb61eae34605e8d7813a70a604a",
     "grade": true,
     "grade_id": "cell-928ecc11ed5c43d8",
     "locked": true,
     "points": 2,
     "schema_version": 1,
     "solution": false
    }
   },
   "outputs": [
    {
     "ename": "NameError",
     "evalue": "name 'episode_durations' is not defined",
     "output_type": "error",
     "traceback": [
      "\u001b[0;31m---------------------------------------------------------------------------\u001b[0m",
      "\u001b[0;31mNameError\u001b[0m                                 Traceback (most recent call last)",
      "\u001b[0;32m<ipython-input-18-88f369d76629>\u001b[0m in \u001b[0;36m<module>\u001b[0;34m()\u001b[0m\n\u001b[1;32m      4\u001b[0m     \u001b[0;32mreturn\u001b[0m \u001b[0;34m(\u001b[0m\u001b[0mcumsum\u001b[0m\u001b[0;34m[\u001b[0m\u001b[0mN\u001b[0m\u001b[0;34m:\u001b[0m\u001b[0;34m]\u001b[0m \u001b[0;34m-\u001b[0m \u001b[0mcumsum\u001b[0m\u001b[0;34m[\u001b[0m\u001b[0;34m:\u001b[0m\u001b[0;34m-\u001b[0m\u001b[0mN\u001b[0m\u001b[0;34m]\u001b[0m\u001b[0;34m)\u001b[0m \u001b[0;34m/\u001b[0m \u001b[0mfloat\u001b[0m\u001b[0;34m(\u001b[0m\u001b[0mN\u001b[0m\u001b[0;34m)\u001b[0m\u001b[0;34m\u001b[0m\u001b[0m\n\u001b[1;32m      5\u001b[0m \u001b[0;34m\u001b[0m\u001b[0m\n\u001b[0;32m----> 6\u001b[0;31m \u001b[0mplt\u001b[0m\u001b[0;34m.\u001b[0m\u001b[0mplot\u001b[0m\u001b[0;34m(\u001b[0m\u001b[0msmooth\u001b[0m\u001b[0;34m(\u001b[0m\u001b[0mepisode_durations\u001b[0m\u001b[0;34m,\u001b[0m \u001b[0;36m10\u001b[0m\u001b[0;34m)\u001b[0m\u001b[0;34m)\u001b[0m\u001b[0;34m\u001b[0m\u001b[0m\n\u001b[0m\u001b[1;32m      7\u001b[0m \u001b[0mplt\u001b[0m\u001b[0;34m.\u001b[0m\u001b[0mtitle\u001b[0m\u001b[0;34m(\u001b[0m\u001b[0;34m'Episode durations per episode'\u001b[0m\u001b[0;34m)\u001b[0m\u001b[0;34m\u001b[0m\u001b[0m\n",
      "\u001b[0;31mNameError\u001b[0m: name 'episode_durations' is not defined"
     ]
    }
   ],
   "source": [
    "# And see the results\n",
    "def smooth(x, N):\n",
    "    cumsum = np.cumsum(np.insert(x, 0, 0)) \n",
    "    return (cumsum[N:] - cumsum[:-N]) / float(N)\n",
    "\n",
    "plt.plot(smooth(episode_durations, 10))\n",
    "plt.title('Episode durations per episode')\n"
   ]
  },
  {
   "cell_type": "markdown",
   "metadata": {
    "deletable": false,
    "editable": false,
    "nbgrader": {
     "checksum": "1e106dba734da10d4d8b3bf90d6bb772",
     "grade": false,
     "grade_id": "cell-49e6bf74834a67ef",
     "locked": true,
     "schema_version": 1,
     "solution": false
    }
   },
   "source": [
    "### 1.6 Semi-gradient vs. true gradient (bonus)"
   ]
  },
  {
   "cell_type": "markdown",
   "metadata": {
    "deletable": false,
    "editable": false,
    "nbgrader": {
     "checksum": "acf155c686f3916453a3d11d95994987",
     "grade": false,
     "grade_id": "cell-fc30be2a6983bc77",
     "locked": true,
     "schema_version": 1,
     "solution": false
    }
   },
   "source": [
    "Note that by using automatic differentiation in PyTorch, it is (relatively) easy to implement the true gradient method. Hint: PyTorch may complain about computing gradients for the target in [smooth_l1_loss](https://pytorch.org/docs/stable/nn.html?highlight=smooth_l1_loss#torch.nn.functional.smooth_l1_loss). How can you circumvent this problem? Implement the `train_true_gradient` method below."
   ]
  },
  {
   "cell_type": "code",
   "execution_count": null,
   "metadata": {
    "deletable": false,
    "nbgrader": {
     "checksum": "3d1e72257ed8c59175352e163f1bfdaf",
     "grade": true,
     "grade_id": "cell-71707640573b23d1",
     "locked": false,
     "points": 1,
     "schema_version": 1,
     "solution": true
    }
   },
   "outputs": [],
   "source": [
    "def train_true_gradient(model, memory, optimizer, batch_size, discount_factor):\n",
    "    \n",
    "    # YOUR CODE HERE\n",
    "    raise NotImplementedError()\n",
    "\n",
    "random.seed(seed)\n",
    "torch.manual_seed(seed)\n",
    "env.seed(seed)\n",
    "\n",
    "model = QNetwork(num_hidden)\n",
    "\n",
    "episode_durations_true_gradient = run_episodes(\n",
    "    train_true_gradient, model, memory, env, num_episodes, batch_size, discount_factor, learn_rate)\n",
    "\n",
    "plt.plot(smooth(episode_durations, 10))\n",
    "plt.plot(smooth(episode_durations_true_gradient, 10))\n",
    "plt.title('Episode durations per episode')\n",
    "plt.legend(['Semi-gradient', 'True gradient'])"
   ]
  },
  {
   "cell_type": "markdown",
   "metadata": {
    "deletable": false,
    "editable": false,
    "nbgrader": {
     "checksum": "95b462060bc00fccd7e8bc2ccc857215",
     "grade": false,
     "grade_id": "cell-b6fb5a1b0894fb4e",
     "locked": true,
     "schema_version": 1,
     "solution": false
    }
   },
   "source": [
    "Which algorithm performs better? Is this what you would expect? Can you explain this?\n",
    "\n",
    "Note: you may want to play around with the number of episodes to answer this question, but please reset it to 100 before handing in the notebook."
   ]
  },
  {
   "cell_type": "markdown",
   "metadata": {
    "deletable": false,
    "nbgrader": {
     "checksum": "b2e5712195d20cce7d1a6afb34e24a41",
     "grade": true,
     "grade_id": "cell-d99dae457ea5bde6",
     "locked": false,
     "points": 1,
     "schema_version": 1,
     "solution": true
    }
   },
   "source": [
    "YOUR ANSWER HERE"
   ]
  },
  {
   "cell_type": "markdown",
   "metadata": {
    "deletable": false,
    "editable": false,
    "nbgrader": {
     "checksum": "de7203182e41f55f391af5892477e89d",
     "grade": false,
     "grade_id": "cell-6607b79e73a101a9",
     "locked": true,
     "schema_version": 1,
     "solution": false
    }
   },
   "source": [
    "---\n",
    "\n",
    "## 2. Policy Gradient (8 points)"
   ]
  },
  {
   "cell_type": "markdown",
   "metadata": {
    "deletable": false,
    "editable": false,
    "nbgrader": {
     "checksum": "951b88e9cd8396d088d3f80e6da9690c",
     "grade": false,
     "grade_id": "cell-083fe71da94aa7aa",
     "locked": true,
     "schema_version": 1,
     "solution": false
    }
   },
   "source": [
    "So we have spent a lot of time working on *value based* methods. We will now switch to *policy based* methods, i.e. learn a policy directly rather than learn a value function from which the policy follows. Mention two advantages of using a policy based method."
   ]
  },
  {
   "cell_type": "markdown",
   "metadata": {
    "deletable": false,
    "nbgrader": {
     "checksum": "a5c1f505cb22eca6eb3b8213ff23e60f",
     "grade": true,
     "grade_id": "cell-134510705650d5ac",
     "locked": false,
     "points": 2,
     "schema_version": 1,
     "solution": true
    }
   },
   "source": [
    "OUR ANSWER\n",
    "\n",
    "1.\n",
    "\n",
    "2."
   ]
  },
  {
   "cell_type": "markdown",
   "metadata": {
    "deletable": false,
    "editable": false,
    "nbgrader": {
     "checksum": "174629c02b62968e23fa6088c4d5763b",
     "grade": false,
     "grade_id": "cell-76a10fe31897025f",
     "locked": true,
     "schema_version": 1,
     "solution": false
    }
   },
   "source": [
    "### 2.1 Policy Network"
   ]
  },
  {
   "cell_type": "markdown",
   "metadata": {
    "deletable": false,
    "editable": false,
    "nbgrader": {
     "checksum": "2bc16b45e6145226b8a6f5117003b7f5",
     "grade": false,
     "grade_id": "cell-34f0712f792bbcca",
     "locked": true,
     "schema_version": 1,
     "solution": false
    }
   },
   "source": [
    "In order to do so, we will implement a Policy network. Although in general this does not have to be the case, we will use an architecture very similar to the Q-network (two layers with ReLU activation for the hidden layer). Since we have discrete actions, our model will output one value per action, where each value represents the (normalized!) log-probability of selecting that action. *Use the (log-)softmax activation function.*"
   ]
  },
  {
   "cell_type": "code",
   "execution_count": 63,
   "metadata": {
    "deletable": false,
    "nbgrader": {
     "checksum": "155baf230fd6deb5f6ccf93138fa3419",
     "grade": false,
     "grade_id": "cell-6a31440f9477f963",
     "locked": false,
     "schema_version": 1,
     "solution": true
    }
   },
   "outputs": [],
   "source": [
    "class PolicyNetwork(nn.Module):\n",
    "    \n",
    "    def __init__(self, num_hidden=128):\n",
    "        nn.Module.__init__(self)\n",
    "        self.l1 = nn.Linear(4, num_hidden)\n",
    "        self.l2 = nn.Linear(num_hidden, 2)\n",
    "\n",
    "    def forward(self, x):\n",
    "        x = F.relu(self.l1(x))\n",
    "        return F.log_softmax(self.l2(x),dim=1)"
   ]
  },
  {
   "cell_type": "code",
   "execution_count": 64,
   "metadata": {
    "deletable": false,
    "editable": false,
    "nbgrader": {
     "checksum": "3cb94e04b03fa4b663bcf38a96ef656d",
     "grade": true,
     "grade_id": "cell-9d280fe6520edc91",
     "locked": true,
     "points": 1,
     "schema_version": 1,
     "solution": false
    }
   },
   "outputs": [
    {
     "name": "stdout",
     "output_type": "stream",
     "text": [
      "tensor([[0.4578, 0.5422],\n",
      "        [0.4657, 0.5343],\n",
      "        [0.4563, 0.5437],\n",
      "        [0.4634, 0.5366],\n",
      "        [0.4564, 0.5436],\n",
      "        [0.4725, 0.5275],\n",
      "        [0.4769, 0.5231],\n",
      "        [0.4834, 0.5166],\n",
      "        [0.4797, 0.5203],\n",
      "        [0.4618, 0.5382]], grad_fn=<ExpBackward>)\n"
     ]
    }
   ],
   "source": [
    "# Let's instantiate and test if it works\n",
    "num_hidden = 128\n",
    "torch.manual_seed(1234)\n",
    "model = PolicyNetwork(num_hidden)\n",
    "\n",
    "x = torch.rand(10, 4)\n",
    "\n",
    "log_p = model(x)\n",
    "\n",
    "# Does the outcome make sense?\n",
    "print(log_p.exp())\n"
   ]
  },
  {
   "cell_type": "markdown",
   "metadata": {
    "deletable": false,
    "editable": false,
    "nbgrader": {
     "checksum": "619c714e930c0d167304597d188f229b",
     "grade": false,
     "grade_id": "cell-35294ca4eda15b11",
     "locked": true,
     "schema_version": 1,
     "solution": false
    }
   },
   "source": [
    "### 2.2 Monte Carlo REINFORCE"
   ]
  },
  {
   "cell_type": "markdown",
   "metadata": {
    "deletable": false,
    "editable": false,
    "nbgrader": {
     "checksum": "93ed9cbcf70541f5a04709ee89a16e78",
     "grade": false,
     "grade_id": "cell-44f33e587542974d",
     "locked": true,
     "schema_version": 1,
     "solution": false
    }
   },
   "source": [
    "Now we will implement the *Monte Carlo* policy gradient algorithm. Remember from lab 1 that this means that we will estimate returns for states by sample episodes. Compared to DQN, this means that we do *not* perform an update step at every environment step, but only at the end of each episode. This means that we should generate an episode of data, compute the REINFORCE loss (which requires computing the returns) and then perform a gradient step.\n",
    "\n",
    "To help you, we already implemented a few functions that you can (but do not have to) use.\n",
    "\n",
    "* You can use `torch.multinomial` to sample from a categorical distribution.\n",
    "* The REINFORCE loss is defined as $- \\sum_t \\log \\pi_\\theta(a_t|s_t) G_t$, which means that you should compute the (discounted) return $G_t$ for all $t$. Make sure that you do this in **linear time**, otherwise your algorithm will be very slow! Note the - (minus) since you want to maximize return while you want to minimize the loss.\n",
    "* Importantly, you should **normalize the returns** (not the rewards!, e.g. subtract mean and divide by standard deviation within the episode) before computing the loss, or your estimator will have very high variance."
   ]
  },
  {
   "cell_type": "code",
   "execution_count": 70,
   "metadata": {
    "deletable": false,
    "nbgrader": {
     "checksum": "3b2c75181678fed25fcc7c8b39bb7de3",
     "grade": true,
     "grade_id": "cell-3f6e32c4931392bf",
     "locked": false,
     "points": 5,
     "schema_version": 1,
     "solution": true
    }
   },
   "outputs": [],
   "source": [
    "def select_action(model, state):\n",
    "    # Samples an action according to the probability distribution induced by the model\n",
    "    # Also returns the log_probability\n",
    "    \n",
    "\n",
    "    log_p = model(torch.FloatTensor(state))\n",
    "    #log_p = model(torch.tensor(state, dtype=torch.float))\n",
    "    #action = np.random.choice(range(len(log_p)), p=log_p)\n",
    "    action = torch.multinomial(log_p.exp(),1)\n",
    "    \n",
    "    return action, torch.gather(log_p, 1, action)\n",
    "\n",
    "\n",
    "def run_episode(env, model):\n",
    "    \n",
    "    state = env.reset()    \n",
    "    episode = []\n",
    "    \n",
    "    done = False\n",
    "    while not done:\n",
    "        action, log_p = select_action(model, [state])\n",
    "        \n",
    "        action = action.item()\n",
    "\n",
    "        next_state, reward, done, _ = env.step(action)\n",
    "\n",
    "        episode.append((state, log_p, reward))\n",
    "        state = next_state\n",
    "\n",
    "    return episode\n",
    "\n",
    "def compute_reinforce_loss(episode, discount_factor):\n",
    "    # Compute the reinforce loss\n",
    "    # Make sure that your function runs in LINEAR TIME\n",
    "    # Don't forget to normalize your RETURNS (not rewards)\n",
    "    # Note that the rewards/returns should be maximized \n",
    "    # while the loss should be minimized so you need a - somewhere\n",
    "    \n",
    "    # YOUR CODE HERE\n",
    "    G = 0\n",
    "    returns = []\n",
    "    \n",
    "    for state, log_p, reward in reversed(episode):\n",
    "        G = discount_factor * G + reward\n",
    "        returns.insert(0, G)\n",
    "    \n",
    "    # normalize returns\n",
    "    #mean_returns = np.mean(returns)\n",
    "    #mean_stddev = np.std(returns)    \n",
    "    #returns = (returns - mean_returns)/ (mean_stddev + 1e-8)\n",
    "    \n",
    "    returns = torch.FloatTensor(returns)\n",
    "    returns = (returns-returns.mean()) / (returns.std() + 1e-8)\n",
    "\n",
    "        \n",
    "    loss = 0\n",
    "    for step, G in zip(episode, returns):\n",
    "        _, log_p, _ = step  \n",
    "        loss += -log_p * G\n",
    "        \n",
    "    return loss\n",
    "\n",
    "def run_episodes_policy_gradient(model, env, num_episodes, discount_factor, learn_rate):\n",
    "    \n",
    "    optimizer = optim.Adam(model.parameters(), learn_rate)\n",
    "    \n",
    "    episode_durations = []\n",
    "    for i in range(num_episodes):\n",
    "        \n",
    "        episode = run_episode(env, model)\n",
    "        loss = compute_reinforce_loss(episode, discount_factor)\n",
    "        \n",
    "        # backpropagation of loss to Neural Network (PyTorch magic)\n",
    "        optimizer.zero_grad()\n",
    "        loss.backward()\n",
    "        optimizer.step()\n",
    "\n",
    "        if i % 10 == 0:\n",
    "            print(\"{2} Episode {0} finished after {1} steps\"\n",
    "                  .format(i, len(episode), '\\033[92m' if len(episode) >= 195 else '\\033[99m'))\n",
    "        episode_durations.append(len(episode))\n",
    "        \n",
    "    return episode_durations"
   ]
  },
  {
   "cell_type": "code",
   "execution_count": 72,
   "metadata": {},
   "outputs": [
    {
     "name": "stdout",
     "output_type": "stream",
     "text": [
      "\u001b[99m Episode 0 finished after 19 steps\n",
      "\u001b[99m Episode 10 finished after 17 steps\n",
      "\u001b[99m Episode 20 finished after 27 steps\n",
      "\u001b[99m Episode 30 finished after 34 steps\n",
      "\u001b[92m Episode 40 finished after 200 steps\n",
      "\u001b[99m Episode 50 finished after 71 steps\n",
      "\u001b[99m Episode 60 finished after 57 steps\n",
      "\u001b[99m Episode 70 finished after 33 steps\n",
      "\u001b[99m Episode 80 finished after 41 steps\n",
      "\u001b[99m Episode 90 finished after 74 steps\n",
      "\u001b[92m Episode 100 finished after 200 steps\n",
      "\u001b[99m Episode 110 finished after 121 steps\n",
      "\u001b[99m Episode 120 finished after 120 steps\n",
      "\u001b[99m Episode 130 finished after 58 steps\n",
      "\u001b[99m Episode 140 finished after 62 steps\n",
      "\u001b[99m Episode 150 finished after 102 steps\n",
      "\u001b[99m Episode 160 finished after 70 steps\n",
      "\u001b[92m Episode 170 finished after 200 steps\n",
      "\u001b[92m Episode 180 finished after 200 steps\n",
      "\u001b[99m Episode 190 finished after 87 steps\n",
      "\u001b[99m Episode 200 finished after 74 steps\n",
      "\u001b[99m Episode 210 finished after 106 steps\n",
      "\u001b[99m Episode 220 finished after 97 steps\n",
      "\u001b[92m Episode 230 finished after 200 steps\n",
      "\u001b[99m Episode 240 finished after 192 steps\n",
      "\u001b[92m Episode 250 finished after 200 steps\n",
      "\u001b[99m Episode 260 finished after 94 steps\n",
      "\u001b[99m Episode 270 finished after 150 steps\n",
      "\u001b[99m Episode 280 finished after 167 steps\n",
      "\u001b[99m Episode 290 finished after 143 steps\n",
      "\u001b[99m Episode 300 finished after 118 steps\n",
      "\u001b[99m Episode 310 finished after 136 steps\n",
      "\u001b[99m Episode 320 finished after 135 steps\n",
      "\u001b[99m Episode 330 finished after 145 steps\n",
      "\u001b[99m Episode 340 finished after 105 steps\n",
      "\u001b[99m Episode 350 finished after 89 steps\n",
      "\u001b[99m Episode 360 finished after 168 steps\n",
      "\u001b[92m Episode 370 finished after 200 steps\n",
      "\u001b[99m Episode 380 finished after 148 steps\n",
      "\u001b[99m Episode 390 finished after 106 steps\n",
      "\u001b[99m Episode 400 finished after 149 steps\n",
      "\u001b[92m Episode 410 finished after 200 steps\n",
      "\u001b[99m Episode 420 finished after 110 steps\n",
      "\u001b[99m Episode 430 finished after 156 steps\n",
      "\u001b[92m Episode 440 finished after 200 steps\n",
      "\u001b[99m Episode 450 finished after 132 steps\n",
      "\u001b[99m Episode 460 finished after 100 steps\n",
      "\u001b[99m Episode 470 finished after 67 steps\n",
      "\u001b[99m Episode 480 finished after 81 steps\n",
      "\u001b[99m Episode 490 finished after 105 steps\n",
      "\u001b[99m Episode 500 finished after 82 steps\n",
      "\u001b[99m Episode 510 finished after 65 steps\n",
      "\u001b[99m Episode 520 finished after 63 steps\n",
      "\u001b[99m Episode 530 finished after 85 steps\n",
      "\u001b[99m Episode 540 finished after 114 steps\n",
      "\u001b[99m Episode 550 finished after 151 steps\n",
      "\u001b[92m Episode 560 finished after 200 steps\n",
      "\u001b[92m Episode 570 finished after 200 steps\n",
      "\u001b[99m Episode 580 finished after 188 steps\n",
      "\u001b[99m Episode 590 finished after 168 steps\n",
      "\u001b[99m Episode 600 finished after 177 steps\n",
      "\u001b[99m Episode 610 finished after 155 steps\n",
      "\u001b[99m Episode 620 finished after 193 steps\n",
      "\u001b[99m Episode 630 finished after 164 steps\n",
      "\u001b[99m Episode 640 finished after 160 steps\n",
      "\u001b[99m Episode 650 finished after 170 steps\n",
      "\u001b[99m Episode 660 finished after 176 steps\n",
      "\u001b[99m Episode 670 finished after 188 steps\n",
      "\u001b[99m Episode 680 finished after 169 steps\n",
      "\u001b[99m Episode 690 finished after 132 steps\n",
      "\u001b[99m Episode 700 finished after 118 steps\n",
      "\u001b[99m Episode 710 finished after 118 steps\n",
      "\u001b[99m Episode 720 finished after 129 steps\n",
      "\u001b[99m Episode 730 finished after 149 steps\n",
      "\u001b[99m Episode 740 finished after 142 steps\n",
      "\u001b[99m Episode 750 finished after 128 steps\n",
      "\u001b[99m Episode 760 finished after 96 steps\n",
      "\u001b[99m Episode 770 finished after 36 steps\n",
      "\u001b[99m Episode 780 finished after 42 steps\n",
      "\u001b[99m Episode 790 finished after 50 steps\n",
      "\u001b[99m Episode 800 finished after 30 steps\n",
      "\u001b[99m Episode 810 finished after 64 steps\n",
      "\u001b[99m Episode 820 finished after 94 steps\n",
      "\u001b[99m Episode 830 finished after 98 steps\n",
      "\u001b[99m Episode 840 finished after 101 steps\n",
      "\u001b[99m Episode 850 finished after 90 steps\n",
      "\u001b[99m Episode 860 finished after 54 steps\n",
      "\u001b[99m Episode 870 finished after 60 steps\n",
      "\u001b[99m Episode 880 finished after 73 steps\n",
      "\u001b[99m Episode 890 finished after 87 steps\n",
      "\u001b[99m Episode 900 finished after 74 steps\n",
      "\u001b[99m Episode 910 finished after 91 steps\n",
      "\u001b[99m Episode 920 finished after 84 steps\n",
      "\u001b[99m Episode 930 finished after 94 steps\n",
      "\u001b[99m Episode 940 finished after 88 steps\n",
      "\u001b[99m Episode 950 finished after 92 steps\n",
      "\u001b[99m Episode 960 finished after 85 steps\n",
      "\u001b[99m Episode 970 finished after 84 steps\n",
      "\u001b[99m Episode 980 finished after 80 steps\n",
      "\u001b[99m Episode 990 finished after 84 steps\n",
      "\u001b[99m Episode 1000 finished after 65 steps\n",
      "\u001b[99m Episode 1010 finished after 68 steps\n",
      "\u001b[99m Episode 1020 finished after 79 steps\n",
      "\u001b[99m Episode 1030 finished after 101 steps\n",
      "\u001b[99m Episode 1040 finished after 99 steps\n",
      "\u001b[99m Episode 1050 finished after 91 steps\n",
      "\u001b[99m Episode 1060 finished after 85 steps\n",
      "\u001b[99m Episode 1070 finished after 91 steps\n",
      "\u001b[99m Episode 1080 finished after 79 steps\n",
      "\u001b[99m Episode 1090 finished after 73 steps\n",
      "\u001b[99m Episode 1100 finished after 88 steps\n",
      "\u001b[99m Episode 1110 finished after 119 steps\n",
      "\u001b[99m Episode 1120 finished after 126 steps\n",
      "\u001b[99m Episode 1130 finished after 96 steps\n",
      "\u001b[99m Episode 1140 finished after 103 steps\n",
      "\u001b[99m Episode 1150 finished after 124 steps\n",
      "\u001b[99m Episode 1160 finished after 126 steps\n",
      "\u001b[99m Episode 1170 finished after 110 steps\n",
      "\u001b[99m Episode 1180 finished after 81 steps\n",
      "\u001b[99m Episode 1190 finished after 73 steps\n",
      "\u001b[99m Episode 1200 finished after 69 steps\n",
      "\u001b[99m Episode 1210 finished after 64 steps\n",
      "\u001b[99m Episode 1220 finished after 78 steps\n",
      "\u001b[99m Episode 1230 finished after 87 steps\n",
      "\u001b[99m Episode 1240 finished after 86 steps\n",
      "\u001b[99m Episode 1250 finished after 84 steps\n",
      "\u001b[99m Episode 1260 finished after 104 steps\n",
      "\u001b[99m Episode 1270 finished after 115 steps\n",
      "\u001b[99m Episode 1280 finished after 134 steps\n",
      "\u001b[99m Episode 1290 finished after 119 steps\n",
      "\u001b[99m Episode 1300 finished after 147 steps\n",
      "\u001b[99m Episode 1310 finished after 167 steps\n",
      "\u001b[92m Episode 1320 finished after 200 steps\n",
      "\u001b[92m Episode 1330 finished after 200 steps\n",
      "\u001b[92m Episode 1340 finished after 200 steps\n",
      "\u001b[99m Episode 1350 finished after 190 steps\n",
      "\u001b[92m Episode 1360 finished after 196 steps\n",
      "\u001b[99m Episode 1370 finished after 133 steps\n",
      "\u001b[99m Episode 1380 finished after 109 steps\n",
      "\u001b[99m Episode 1390 finished after 101 steps\n",
      "\u001b[99m Episode 1400 finished after 109 steps\n",
      "\u001b[99m Episode 1410 finished after 86 steps\n",
      "\u001b[99m Episode 1420 finished after 89 steps\n",
      "\u001b[99m Episode 1430 finished after 105 steps\n",
      "\u001b[99m Episode 1440 finished after 111 steps\n",
      "\u001b[99m Episode 1450 finished after 97 steps\n",
      "\u001b[99m Episode 1460 finished after 131 steps\n",
      "\u001b[99m Episode 1470 finished after 176 steps\n",
      "\u001b[92m Episode 1480 finished after 200 steps\n",
      "\u001b[92m Episode 1490 finished after 200 steps\n",
      "\u001b[92m Episode 1500 finished after 200 steps\n",
      "\u001b[99m Episode 1510 finished after 182 steps\n",
      "\u001b[92m Episode 1520 finished after 195 steps\n",
      "\u001b[99m Episode 1530 finished after 179 steps\n",
      "\u001b[99m Episode 1540 finished after 139 steps\n",
      "\u001b[99m Episode 1550 finished after 89 steps\n",
      "\u001b[99m Episode 1560 finished after 84 steps\n",
      "\u001b[99m Episode 1570 finished after 65 steps\n",
      "\u001b[99m Episode 1580 finished after 94 steps\n",
      "\u001b[99m Episode 1590 finished after 82 steps\n",
      "\u001b[99m Episode 1600 finished after 149 steps\n",
      "\u001b[99m Episode 1610 finished after 143 steps\n",
      "\u001b[99m Episode 1620 finished after 111 steps\n",
      "\u001b[99m Episode 1630 finished after 147 steps\n",
      "\u001b[99m Episode 1640 finished after 153 steps\n",
      "\u001b[99m Episode 1650 finished after 116 steps\n",
      "\u001b[99m Episode 1660 finished after 151 steps\n",
      "\u001b[99m Episode 1670 finished after 138 steps\n",
      "\u001b[99m Episode 1680 finished after 155 steps\n",
      "\u001b[99m Episode 1690 finished after 105 steps\n",
      "\u001b[99m Episode 1700 finished after 156 steps\n",
      "\u001b[92m Episode 1710 finished after 200 steps\n",
      "\u001b[92m Episode 1720 finished after 200 steps\n",
      "\u001b[92m Episode 1730 finished after 200 steps\n",
      "\u001b[92m Episode 1740 finished after 200 steps\n",
      "\u001b[92m Episode 1750 finished after 200 steps\n",
      "\u001b[92m Episode 1760 finished after 200 steps\n",
      "\u001b[92m Episode 1770 finished after 200 steps\n",
      "\u001b[92m Episode 1780 finished after 200 steps\n",
      "\u001b[92m Episode 1790 finished after 200 steps\n",
      "\u001b[92m Episode 1800 finished after 200 steps\n",
      "\u001b[92m Episode 1810 finished after 200 steps\n",
      "\u001b[92m Episode 1820 finished after 195 steps\n",
      "\u001b[92m Episode 1830 finished after 200 steps\n",
      "\u001b[92m Episode 1840 finished after 200 steps\n",
      "\u001b[92m Episode 1850 finished after 200 steps\n",
      "\u001b[92m Episode 1860 finished after 200 steps\n",
      "\u001b[92m Episode 1870 finished after 200 steps\n",
      "\u001b[92m Episode 1880 finished after 200 steps\n",
      "\u001b[92m Episode 1890 finished after 200 steps\n",
      "\u001b[92m Episode 1900 finished after 200 steps\n"
     ]
    },
    {
     "name": "stdout",
     "output_type": "stream",
     "text": [
      "\u001b[92m Episode 1910 finished after 200 steps\n",
      "\u001b[92m Episode 1920 finished after 200 steps\n",
      "\u001b[92m Episode 1930 finished after 200 steps\n",
      "\u001b[92m Episode 1940 finished after 200 steps\n",
      "\u001b[92m Episode 1950 finished after 200 steps\n",
      "\u001b[99m Episode 1960 finished after 42 steps\n",
      "\u001b[99m Episode 1970 finished after 39 steps\n",
      "\u001b[99m Episode 1980 finished after 12 steps\n",
      "\u001b[92m Episode 1990 finished after 200 steps\n",
      "\u001b[99m Episode 2000 finished after 12 steps\n",
      "\u001b[99m Episode 2010 finished after 162 steps\n",
      "\u001b[99m Episode 2020 finished after 166 steps\n",
      "\u001b[99m Episode 2030 finished after 129 steps\n",
      "\u001b[99m Episode 2040 finished after 80 steps\n",
      "\u001b[99m Episode 2050 finished after 74 steps\n",
      "\u001b[99m Episode 2060 finished after 36 steps\n",
      "\u001b[99m Episode 2070 finished after 16 steps\n",
      "\u001b[99m Episode 2080 finished after 63 steps\n",
      "\u001b[99m Episode 2090 finished after 96 steps\n",
      "\u001b[99m Episode 2100 finished after 114 steps\n",
      "\u001b[99m Episode 2110 finished after 136 steps\n",
      "\u001b[99m Episode 2120 finished after 165 steps\n",
      "\u001b[92m Episode 2130 finished after 200 steps\n",
      "\u001b[92m Episode 2140 finished after 200 steps\n",
      "\u001b[92m Episode 2150 finished after 200 steps\n",
      "\u001b[92m Episode 2160 finished after 198 steps\n",
      "\u001b[92m Episode 2170 finished after 197 steps\n",
      "\u001b[92m Episode 2180 finished after 195 steps\n",
      "\u001b[99m Episode 2190 finished after 175 steps\n",
      "\u001b[99m Episode 2200 finished after 189 steps\n",
      "\u001b[99m Episode 2210 finished after 162 steps\n",
      "\u001b[99m Episode 2220 finished after 185 steps\n",
      "\u001b[92m Episode 2230 finished after 200 steps\n",
      "\u001b[92m Episode 2240 finished after 200 steps\n",
      "\u001b[92m Episode 2250 finished after 200 steps\n",
      "\u001b[92m Episode 2260 finished after 200 steps\n",
      "\u001b[92m Episode 2270 finished after 200 steps\n",
      "\u001b[99m Episode 2280 finished after 44 steps\n",
      "\u001b[99m Episode 2290 finished after 12 steps\n",
      "\u001b[99m Episode 2300 finished after 151 steps\n",
      "\u001b[99m Episode 2310 finished after 155 steps\n",
      "\u001b[99m Episode 2320 finished after 132 steps\n",
      "\u001b[99m Episode 2330 finished after 140 steps\n",
      "\u001b[99m Episode 2340 finished after 25 steps\n",
      "\u001b[99m Episode 2350 finished after 132 steps\n",
      "\u001b[99m Episode 2360 finished after 153 steps\n",
      "\u001b[92m Episode 2370 finished after 199 steps\n",
      "\u001b[92m Episode 2380 finished after 200 steps\n",
      "\u001b[99m Episode 2390 finished after 186 steps\n",
      "\u001b[92m Episode 2400 finished after 200 steps\n",
      "\u001b[92m Episode 2410 finished after 200 steps\n",
      "\u001b[92m Episode 2420 finished after 200 steps\n",
      "\u001b[99m Episode 2430 finished after 176 steps\n",
      "\u001b[92m Episode 2440 finished after 200 steps\n",
      "\u001b[92m Episode 2450 finished after 200 steps\n",
      "\u001b[92m Episode 2460 finished after 200 steps\n",
      "\u001b[99m Episode 2470 finished after 74 steps\n",
      "\u001b[92m Episode 2480 finished after 196 steps\n",
      "\u001b[92m Episode 2490 finished after 200 steps\n",
      "\u001b[92m Episode 2500 finished after 200 steps\n",
      "\u001b[92m Episode 2510 finished after 200 steps\n",
      "\u001b[92m Episode 2520 finished after 200 steps\n",
      "\u001b[92m Episode 2530 finished after 200 steps\n",
      "\u001b[92m Episode 2540 finished after 200 steps\n",
      "\u001b[92m Episode 2550 finished after 200 steps\n",
      "\u001b[92m Episode 2560 finished after 200 steps\n",
      "\u001b[92m Episode 2570 finished after 200 steps\n",
      "\u001b[92m Episode 2580 finished after 200 steps\n",
      "\u001b[92m Episode 2590 finished after 200 steps\n",
      "\u001b[92m Episode 2600 finished after 200 steps\n",
      "\u001b[92m Episode 2610 finished after 200 steps\n",
      "\u001b[92m Episode 2620 finished after 200 steps\n",
      "\u001b[92m Episode 2630 finished after 200 steps\n",
      "\u001b[92m Episode 2640 finished after 200 steps\n",
      "\u001b[92m Episode 2650 finished after 200 steps\n",
      "\u001b[92m Episode 2660 finished after 200 steps\n",
      "\u001b[92m Episode 2670 finished after 200 steps\n",
      "\u001b[92m Episode 2680 finished after 200 steps\n",
      "\u001b[92m Episode 2690 finished after 200 steps\n",
      "\u001b[92m Episode 2700 finished after 200 steps\n",
      "\u001b[92m Episode 2710 finished after 200 steps\n",
      "\u001b[92m Episode 2720 finished after 200 steps\n",
      "\u001b[92m Episode 2730 finished after 200 steps\n",
      "\u001b[92m Episode 2740 finished after 200 steps\n",
      "\u001b[92m Episode 2750 finished after 200 steps\n",
      "\u001b[92m Episode 2760 finished after 200 steps\n",
      "\u001b[92m Episode 2770 finished after 200 steps\n",
      "\u001b[92m Episode 2780 finished after 200 steps\n",
      "\u001b[92m Episode 2790 finished after 200 steps\n",
      "\u001b[92m Episode 2800 finished after 200 steps\n",
      "\u001b[92m Episode 2810 finished after 200 steps\n",
      "\u001b[92m Episode 2820 finished after 200 steps\n",
      "\u001b[92m Episode 2830 finished after 200 steps\n",
      "\u001b[92m Episode 2840 finished after 200 steps\n",
      "\u001b[92m Episode 2850 finished after 200 steps\n",
      "\u001b[92m Episode 2860 finished after 200 steps\n",
      "\u001b[92m Episode 2870 finished after 200 steps\n",
      "\u001b[92m Episode 2880 finished after 200 steps\n",
      "\u001b[92m Episode 2890 finished after 200 steps\n",
      "\u001b[92m Episode 2900 finished after 200 steps\n",
      "\u001b[92m Episode 2910 finished after 200 steps\n",
      "\u001b[92m Episode 2920 finished after 200 steps\n",
      "\u001b[99m Episode 2930 finished after 98 steps\n",
      "\u001b[99m Episode 2940 finished after 53 steps\n",
      "\u001b[92m Episode 2950 finished after 200 steps\n",
      "\u001b[92m Episode 2960 finished after 200 steps\n",
      "\u001b[92m Episode 2970 finished after 200 steps\n",
      "\u001b[92m Episode 2980 finished after 200 steps\n",
      "\u001b[92m Episode 2990 finished after 200 steps\n",
      "\u001b[92m Episode 3000 finished after 200 steps\n",
      "\u001b[92m Episode 3010 finished after 200 steps\n",
      "\u001b[92m Episode 3020 finished after 200 steps\n",
      "\u001b[92m Episode 3030 finished after 200 steps\n",
      "\u001b[92m Episode 3040 finished after 200 steps\n",
      "\u001b[92m Episode 3050 finished after 200 steps\n",
      "\u001b[92m Episode 3060 finished after 200 steps\n",
      "\u001b[92m Episode 3070 finished after 200 steps\n",
      "\u001b[92m Episode 3080 finished after 200 steps\n",
      "\u001b[92m Episode 3090 finished after 200 steps\n",
      "\u001b[92m Episode 3100 finished after 200 steps\n",
      "\u001b[92m Episode 3110 finished after 200 steps\n",
      "\u001b[92m Episode 3120 finished after 200 steps\n",
      "\u001b[92m Episode 3130 finished after 200 steps\n",
      "\u001b[92m Episode 3140 finished after 200 steps\n",
      "\u001b[92m Episode 3150 finished after 200 steps\n",
      "\u001b[99m Episode 3160 finished after 11 steps\n",
      "\u001b[99m Episode 3170 finished after 181 steps\n",
      "\u001b[99m Episode 3180 finished after 15 steps\n",
      "\u001b[99m Episode 3190 finished after 15 steps\n",
      "\u001b[99m Episode 3200 finished after 17 steps\n",
      "\u001b[99m Episode 3210 finished after 12 steps\n",
      "\u001b[99m Episode 3220 finished after 156 steps\n",
      "\u001b[99m Episode 3230 finished after 182 steps\n",
      "\u001b[92m Episode 3240 finished after 200 steps\n",
      "\u001b[92m Episode 3250 finished after 200 steps\n",
      "\u001b[92m Episode 3260 finished after 200 steps\n",
      "\u001b[92m Episode 3270 finished after 200 steps\n",
      "\u001b[92m Episode 3280 finished after 200 steps\n",
      "\u001b[92m Episode 3290 finished after 200 steps\n",
      "\u001b[92m Episode 3300 finished after 200 steps\n",
      "\u001b[92m Episode 3310 finished after 200 steps\n",
      "\u001b[92m Episode 3320 finished after 200 steps\n",
      "\u001b[92m Episode 3330 finished after 200 steps\n",
      "\u001b[92m Episode 3340 finished after 200 steps\n",
      "\u001b[92m Episode 3350 finished after 200 steps\n",
      "\u001b[92m Episode 3360 finished after 200 steps\n",
      "\u001b[92m Episode 3370 finished after 200 steps\n",
      "\u001b[92m Episode 3380 finished after 200 steps\n",
      "\u001b[92m Episode 3390 finished after 200 steps\n",
      "\u001b[92m Episode 3400 finished after 200 steps\n",
      "\u001b[92m Episode 3410 finished after 200 steps\n",
      "\u001b[92m Episode 3420 finished after 200 steps\n",
      "\u001b[92m Episode 3430 finished after 200 steps\n",
      "\u001b[92m Episode 3440 finished after 200 steps\n",
      "\u001b[92m Episode 3450 finished after 200 steps\n",
      "\u001b[92m Episode 3460 finished after 200 steps\n",
      "\u001b[92m Episode 3470 finished after 200 steps\n",
      "\u001b[92m Episode 3480 finished after 200 steps\n",
      "\u001b[92m Episode 3490 finished after 200 steps\n",
      "\u001b[92m Episode 3500 finished after 200 steps\n",
      "\u001b[92m Episode 3510 finished after 200 steps\n",
      "\u001b[92m Episode 3520 finished after 200 steps\n",
      "\u001b[92m Episode 3530 finished after 200 steps\n",
      "\u001b[92m Episode 3540 finished after 200 steps\n",
      "\u001b[92m Episode 3550 finished after 200 steps\n",
      "\u001b[92m Episode 3560 finished after 200 steps\n",
      "\u001b[92m Episode 3570 finished after 200 steps\n",
      "\u001b[92m Episode 3580 finished after 200 steps\n",
      "\u001b[92m Episode 3590 finished after 200 steps\n",
      "\u001b[92m Episode 3600 finished after 200 steps\n",
      "\u001b[92m Episode 3610 finished after 200 steps\n",
      "\u001b[92m Episode 3620 finished after 200 steps\n",
      "\u001b[92m Episode 3630 finished after 200 steps\n",
      "\u001b[92m Episode 3640 finished after 200 steps\n",
      "\u001b[92m Episode 3650 finished after 200 steps\n",
      "\u001b[92m Episode 3660 finished after 200 steps\n",
      "\u001b[92m Episode 3670 finished after 200 steps\n",
      "\u001b[92m Episode 3680 finished after 200 steps\n",
      "\u001b[92m Episode 3690 finished after 200 steps\n",
      "\u001b[92m Episode 3700 finished after 200 steps\n",
      "\u001b[92m Episode 3710 finished after 200 steps\n",
      "\u001b[92m Episode 3720 finished after 200 steps\n",
      "\u001b[92m Episode 3730 finished after 200 steps\n",
      "\u001b[92m Episode 3740 finished after 200 steps\n",
      "\u001b[92m Episode 3750 finished after 200 steps\n",
      "\u001b[92m Episode 3760 finished after 200 steps\n",
      "\u001b[92m Episode 3770 finished after 200 steps\n"
     ]
    },
    {
     "name": "stdout",
     "output_type": "stream",
     "text": [
      "\u001b[92m Episode 3780 finished after 200 steps\n",
      "\u001b[92m Episode 3790 finished after 200 steps\n",
      "\u001b[92m Episode 3800 finished after 200 steps\n",
      "\u001b[92m Episode 3810 finished after 200 steps\n",
      "\u001b[92m Episode 3820 finished after 200 steps\n",
      "\u001b[92m Episode 3830 finished after 200 steps\n",
      "\u001b[92m Episode 3840 finished after 200 steps\n",
      "\u001b[92m Episode 3850 finished after 200 steps\n",
      "\u001b[92m Episode 3860 finished after 200 steps\n",
      "\u001b[92m Episode 3870 finished after 200 steps\n",
      "\u001b[92m Episode 3880 finished after 200 steps\n",
      "\u001b[92m Episode 3890 finished after 200 steps\n",
      "\u001b[92m Episode 3900 finished after 200 steps\n",
      "\u001b[92m Episode 3910 finished after 200 steps\n",
      "\u001b[92m Episode 3920 finished after 200 steps\n",
      "\u001b[92m Episode 3930 finished after 200 steps\n",
      "\u001b[92m Episode 3940 finished after 200 steps\n",
      "\u001b[92m Episode 3950 finished after 200 steps\n",
      "\u001b[92m Episode 3960 finished after 200 steps\n",
      "\u001b[92m Episode 3970 finished after 200 steps\n",
      "\u001b[92m Episode 3980 finished after 200 steps\n",
      "\u001b[92m Episode 3990 finished after 200 steps\n"
     ]
    },
    {
     "data": {
      "text/plain": [
       "<matplotlib.legend.Legend at 0x7f6c795acd30>"
      ]
     },
     "execution_count": 72,
     "metadata": {},
     "output_type": "execute_result"
    },
    {
     "data": {
      "image/png": "[encoded data removed]",
      "text/plain": [
       "<Figure size 432x288 with 1 Axes>"
      ]
     },
     "metadata": {
      "needs_background": "light"
     },
     "output_type": "display_data"
    }
   ],
   "source": [
    "# Feel free to play around with the parameters!\n",
    "num_episodes = 4000\n",
    "discount_factor = 0.99\n",
    "learn_rate = 0.01\n",
    "seed = 42\n",
    "random.seed(seed)\n",
    "torch.manual_seed(seed)\n",
    "env.seed(seed)\n",
    "\n",
    "model = PolicyNetwork(num_hidden)\n",
    "\n",
    "episode_durations_policy_gradient = run_episodes_policy_gradient(\n",
    "    model, env, num_episodes, discount_factor, learn_rate)\n",
    "\n",
    "plt.plot(smooth(episode_durations_policy_gradient, 10))\n",
    "plt.title('Episode durations per episode')\n",
    "plt.legend(['Policy gradient'])"
   ]
  },
  {
   "cell_type": "markdown",
   "metadata": {
    "deletable": false,
    "editable": false,
    "nbgrader": {
     "checksum": "b9fe846472bc09094ba671593c4b40b4",
     "grade": false,
     "grade_id": "cell-af9c49b396393dc0",
     "locked": true,
     "schema_version": 1,
     "solution": false
    }
   },
   "source": [
    "---\n",
    "## Actor-Critic (7 points)"
   ]
  },
  {
   "cell_type": "markdown",
   "metadata": {
    "deletable": false,
    "editable": false,
    "nbgrader": {
     "checksum": "ff32c0931b08aa9a5719639105a7b3e5",
     "grade": false,
     "grade_id": "cell-7eabad968ce02adf",
     "locked": true,
     "schema_version": 1,
     "solution": false
    }
   },
   "source": [
    "We will now implement the basic Actor-Critic algorithm, which means that instead of using Monte Carlo returns, we will bootstrap (1-step) returns using a critic (state-value function), so $G_t = R_t + \\gamma V(s_{t+1})$. What happens at the end of the episode? Hint: you may find it useful to have a look at the `train` method for DQN.\n",
    "\n",
    "* Note that we now have to train an actor (policy) and a critic (value network).\n",
    "* We will do this using a single optimizer, which means that we have to sum the loss for the actor and the critic into a single loss term. \n",
    "* For the critic, use the `smooth_l1_loss` like with DQN.\n",
    "* For the actor, the loss should be the REINFORCE loss, but with two differences:\n",
    "    - Instead of the Monte Carlo return $G_t$, use the one step return $G_{t:t+1}$ where the critic is used to bootstrap the value of $s_{t+1}$.\n",
    "    - Instead of normalizing the returns (which can be viewed as using the average as baseline and then scaling), we will use the estimated value $V(s_t)$ as baseline.\n",
    "* **Important**: note that you cannot use `with torch.no_grad():` to compute the critic value (for the current state) since you need gradients to train the critic! However, when using the value to compute the actor loss, you do not want to get gradients of the critic parameters w.r.t. the actor loss (e.g. your target and baseline must be constant)! Therefore, use `v.detach()` on the output of the critic when it is used in the loss term for the actor, this will make sure the value(s) are treated as a constant and no gradients will be backpropagated."
   ]
  },
  {
   "cell_type": "code",
   "execution_count": null,
   "metadata": {
    "deletable": false,
    "nbgrader": {
     "checksum": "3b649f137296d2c6e9ac367781f1b04e",
     "grade": true,
     "grade_id": "cell-5a7326fd2ab9349c",
     "locked": false,
     "points": 5,
     "schema_version": 1,
     "solution": true
    }
   },
   "outputs": [],
   "source": [
    "class ValueNetwork(nn.Module):\n",
    "    \n",
    "    def __init__(self, num_hidden=128):\n",
    "        nn.Module.__init__(self)\n",
    "        # YOUR CODE HERE\n",
    "        raise NotImplementedError()\n",
    "\n",
    "    def forward(self, x):\n",
    "        # YOUR CODE HERE\n",
    "        raise NotImplementedError()\n",
    "    \n",
    "\n",
    "def select_action(model, state):\n",
    "    # Samples an action according to the probability distribution induced by the model\n",
    "    # Also returns the log_probability\n",
    "    # YOUR CODE HERE\n",
    "    raise NotImplementedError()\n",
    "    # action and log_p should be a 1 dimensional vector\n",
    "    n = len(state)\n",
    "    assert action.size() == (n, )\n",
    "    assert log_p.size() == (n, )\n",
    "    return action, log_p\n",
    "\n",
    "def train_actor_critic(actor, critic, optimizer, log_ps, state, reward, next_state, done, discount_factor):\n",
    "    \n",
    "    # YOUR CODE HERE\n",
    "    raise NotImplementedError()\n",
    "    \n",
    "    # The loss is composed of the value_loss (for the critic) and the actor_loss\n",
    "    loss = value_loss + actor_loss\n",
    "\n",
    "    # backpropagation of loss to Neural Network (PyTorch magic)\n",
    "    optimizer.zero_grad()\n",
    "    loss.backward()\n",
    "    optimizer.step()\n",
    "    \n",
    "    return loss.item(), value_loss.item(), actor_loss.item()  # Returns a Python scalar, and releases history (similar to .detach())\n",
    "\n",
    "def run_episodes_actor_critic(actor, critic, envs, max_episodes, max_steps, discount_factor, actor_learn_rate, critic_learn_rate):\n",
    "    \n",
    "    # We can use a single optimizer for both the actor and the critic, even with separate learn rates\n",
    "    optimizer = optim.Adam([\n",
    "        {'params': actor.parameters(), 'lr': actor_learn_rate},\n",
    "        {'params': critic.parameters(), 'lr': critic_learn_rate}\n",
    "    ])\n",
    "    \n",
    "    episode_durations = []\n",
    "    state = torch.tensor([env.reset() for env in envs], dtype=torch.float)\n",
    "    current_episode_lengths = torch.zeros(len(envs), dtype=torch.int64)\n",
    "    step_losses = []  # Keep track of losses for plotting\n",
    "    for i in range(max_steps):\n",
    "        \n",
    "        if i % 100 == 0:\n",
    "            print(f\"Step {i}, finished {len(episode_durations)} / {num_episodes} episodes, average episode duration of last 100 episodes: {np.mean(episode_durations[-100:])}\")\n",
    "        \n",
    "        action, log_ps = select_action(actor, state)\n",
    "        next_state, reward, done, _ = zip(*[env.step(a.item()) for env, a in zip(envs, action)])\n",
    "        \n",
    "        next_state = torch.tensor(next_state, dtype=torch.float)\n",
    "        reward = torch.tensor(reward, dtype=torch.float)\n",
    "        done = torch.tensor(done, dtype=torch.uint8)  # Boolean\n",
    "        current_episode_lengths += 1\n",
    "        \n",
    "        losses = train_actor_critic(actor, critic, optimizer, log_ps, state, reward, next_state, done, discount_factor)\n",
    "        \n",
    "        step_losses.append(losses)\n",
    "        \n",
    "        # Reset envs that are done\n",
    "        next_state = torch.tensor([\n",
    "            env.reset() if d else s.tolist()\n",
    "            for env, s, d in zip(envs, next_state, done)\n",
    "        ], dtype=torch.float)\n",
    "        \n",
    "        episode_durations.extend(current_episode_lengths[done])\n",
    "        current_episode_lengths[done] = 0  # PyTorch can also work in place\n",
    "        \n",
    "        state = next_state\n",
    "        \n",
    "        # Check if we have finished sufficiently many episodes\n",
    "        if len(episode_durations) >= max_episodes:\n",
    "            break\n",
    "        \n",
    "    return episode_durations[:max_episodes], step_losses  # In case we want exactly num_episodes returned\n",
    "\n",
    "\n",
    "num_envs = 16\n",
    "max_steps = 10000\n",
    "max_episodes = 10000\n",
    "discount_factor = 0.8\n",
    "lr_actor = 1e-3\n",
    "lr_critic = 1e-3\n",
    "seed = 42\n",
    "\n",
    "actor = PolicyNetwork(num_hidden)\n",
    "critic = ValueNetwork(num_hidden)\n",
    "\n",
    "envs = [gym.envs.make(\"CartPole-v0\") for i in range(num_envs)]\n",
    "\n",
    "for i, env in enumerate(envs):\n",
    "    env.seed(seed + i)\n",
    "torch.manual_seed(seed)\n",
    "\n",
    "episode_durations, step_losses = run_episodes_actor_critic(actor, critic, envs, max_episodes, max_steps, discount_factor, lr_actor, lr_critic)"
   ]
  },
  {
   "cell_type": "code",
   "execution_count": null,
   "metadata": {},
   "outputs": [],
   "source": [
    "plt.plot(smooth(episode_durations, 100))\n",
    "plt.title('Episode durations')\n",
    "plt.show()\n",
    "loss, v_loss, a_loss = zip(*step_losses)\n",
    "\n",
    "plt.plot(smooth(v_loss, 100))\n",
    "plt.title('Value loss')\n",
    "plt.show()\n",
    "plt.plot(smooth(a_loss, 100))\n",
    "plt.title('Actor loss')\n",
    "plt.show()"
   ]
  },
  {
   "cell_type": "markdown",
   "metadata": {
    "deletable": false,
    "editable": false,
    "nbgrader": {
     "checksum": "de8c4cba2ebd1a8bba2236f92a0b550c",
     "grade": false,
     "grade_id": "cell-8d15d4c9c0310bec",
     "locked": true,
     "schema_version": 1,
     "solution": false
    }
   },
   "source": [
    "What is the difficulty of training AC algorithms? What could you try to do to overcome these difficulties? Hint: look at some online implementations."
   ]
  },
  {
   "cell_type": "markdown",
   "metadata": {
    "deletable": false,
    "nbgrader": {
     "checksum": "1e51e82a7730101dfd07b2f0e470d1b4",
     "grade": true,
     "grade_id": "cell-f68c6134a9df40b9",
     "locked": false,
     "points": 2,
     "schema_version": 1,
     "solution": true
    }
   },
   "source": [
    "YOUR ANSWER HERE"
   ]
  },
  {
   "cell_type": "markdown",
   "metadata": {
    "deletable": false,
    "editable": false,
    "nbgrader": {
     "checksum": "5947c1e643f533003715ae8da659af9e",
     "grade": false,
     "grade_id": "cell-ad1138b69e6728a0",
     "locked": true,
     "schema_version": 1,
     "solution": false
    }
   },
   "source": [
    "## Deep Reinforcement Learning (5 bonus points)\n",
    "Note that so far we used the state variables as input. However, the true power of Deep Learning is that we can directly learn from raw inputs, e.g. we can learn to balance the cart pole *by just looking at the screen*. This probably means that you need a deep(er) (convolutional) network, as well as tweaking some parameters, running for more iterations (perhaps on GPU) and do other tricks to stabilize learning. Can you get this to work? This will earn you bonus points!\n",
    "\n",
    "Hints:\n",
    "* You may want to use [Google Colab](https://colab.research.google.com/) such that you can benefit from GPU acceleration.\n",
    "* Even if you don't use Colab, save the weights of your final model and load it in the code here (see example below). Hand in the model file with the .ipynb in a .zip. We likely won't be able to run your training code during grading!\n",
    "* To run the code below, you need to install `torchvision`, for this uncomment the two lines in the cell below or run the command in a terminal. Note: you may need to restart the terminal after installing.\n",
    "* Preprocessing is already done for you, and the observation is the difference between two consequtive frames such that the model can 'see' (angular) speed from a single image. Now do you see why we (sometimes) use the word observation (and not state)?"
   ]
  },
  {
   "cell_type": "code",
   "execution_count": null,
   "metadata": {},
   "outputs": [],
   "source": [
    "# %%bash\n",
    "# conda install torchvision -c pytorch"
   ]
  },
  {
   "cell_type": "code",
   "execution_count": null,
   "metadata": {
    "deletable": false,
    "editable": false,
    "nbgrader": {
     "checksum": "f660e1484fe2bf60d66467326eacb1ba",
     "grade": false,
     "grade_id": "cell-9c9dfa80827c5680",
     "locked": true,
     "schema_version": 1,
     "solution": false
    }
   },
   "outputs": [],
   "source": [
    "import torchvision.transforms as T\n",
    "from PIL import Image\n",
    "\n",
    "\n",
    "resize = T.Compose([T.ToPILImage(),\n",
    "                    T.Resize(40, interpolation=Image.CUBIC),\n",
    "                    T.ToTensor()])\n",
    "\n",
    "class CartPoleRawEnv(gym.Env):\n",
    "    \n",
    "    def __init__(self, *args, **kwargs):\n",
    "        self._env = gym.make('CartPole-v0', *args, **kwargs)  #.unwrapped\n",
    "        self.action_space = self._env.action_space\n",
    "        screen_height, screen_width = 40, 80  # TODO\n",
    "        self.observation_space = gym.spaces.Box(\n",
    "            low=0, high=255, \n",
    "            shape=(screen_height, screen_width, 3), dtype=np.uint8)\n",
    "    \n",
    "    def seed(self, seed=None):\n",
    "        return self._env.seed(seed)\n",
    "    \n",
    "    def reset(self):\n",
    "        s = self._env.reset()\n",
    "        self.prev_screen = self.screen = self.get_screen()\n",
    "        return self._get_observation()\n",
    "    \n",
    "    def step(self, action):\n",
    "        s, r, done, info = self._env.step(action)\n",
    "        self.prev_screen = self.screen\n",
    "        self.screen = self.get_screen()\n",
    "        return self._get_observation(), r, done, info\n",
    "    \n",
    "    def _get_observation(self):\n",
    "        return self.screen - self.prev_screen\n",
    "    \n",
    "    def _get_cart_location(self, screen_width):\n",
    "        _env = self._env.unwrapped\n",
    "        world_width = _env.x_threshold * 2\n",
    "        scale = screen_width / world_width\n",
    "        return int(_env.state[0] * scale + screen_width / 2.0)  # MIDDLE OF CART\n",
    "\n",
    "    def get_screen(self):\n",
    "        screen = self._env.unwrapped.render(mode='rgb_array').transpose(\n",
    "            (2, 0, 1))  # transpose into torch order (CHW)\n",
    "        # Strip off the top and bottom of the screen\n",
    "        _, screen_height, screen_width = screen.shape\n",
    "        screen = screen[:, screen_height * 4 // 10:screen_height * 8 // 10]\n",
    "        view_width = screen_height * 8 // 10\n",
    "        cart_location = self._get_cart_location(screen_width)\n",
    "        if cart_location < view_width // 2:\n",
    "            slice_range = slice(view_width)\n",
    "        elif cart_location > (screen_width - view_width // 2):\n",
    "            slice_range = slice(-view_width, None)\n",
    "        else:\n",
    "            slice_range = slice(cart_location - view_width // 2,\n",
    "                                cart_location + view_width // 2)\n",
    "        # Strip off the edges, so that we have a square image centered on a cart\n",
    "        screen = screen[:, :, slice_range]\n",
    "        # Convert to float, rescare, convert to torch tensor\n",
    "        # (this doesn't require a copy)\n",
    "        screen = np.ascontiguousarray(screen, dtype=np.float32) / 255\n",
    "        screen = torch.from_numpy(screen)\n",
    "        # Resize, and add a batch dimension (BCHW)\n",
    "        #return screen.unsqueeze(0).to(device)\n",
    "        return resize(screen).unsqueeze(0)\n",
    "    \n",
    "    def close(self):\n",
    "        return self._env.close()\n",
    "\n",
    "raw_env = CartPoleRawEnv()\n",
    "s = raw_env.reset()\n",
    "\n",
    "# \n",
    "s, r, done, _ = raw_env.step(env.action_space.sample())\n",
    "\n",
    "raw_env.reset()\n",
    "plt.figure()\n",
    "plt.imshow(raw_env.get_screen().cpu().squeeze(0).permute(1, 2, 0).numpy(),\n",
    "           interpolation='none')\n",
    "plt.title('Example extracted screen')\n",
    "plt.show()\n",
    "\n",
    "# Observations are (-1, 1) while we need to plot (0, 1) so show (rgb + 1) / 2\n",
    "plt.figure()\n",
    "plt.imshow((s.cpu().squeeze(0).permute(1, 2, 0).numpy() + 1) / 2,\n",
    "           interpolation='none')\n",
    "plt.title('Example observation')\n",
    "plt.show()\n",
    "raw_env.close()"
   ]
  },
  {
   "cell_type": "code",
   "execution_count": null,
   "metadata": {},
   "outputs": [],
   "source": [
    "# Maybe you should make it a bit deeper?\n",
    "class DeepPolicy(nn.Module):\n",
    "    def __init__(self):\n",
    "        nn.Module.__init__(self)\n",
    "        self.l1 = nn.Linear(40 * 80 * 3, 2)\n",
    "\n",
    "    def forward(self, x):\n",
    "        # Flatten\n",
    "        return F.log_softmax(self.l1(x.view(x.size(0), -1)), -1)\n",
    "    \n",
    "policy = DeepPolicy()\n",
    "filename = 'weights.pt'\n",
    "\n",
    "if os.path.isfile(filename):\n",
    "    print(f\"Loading weights from {filename}\")\n",
    "    weights = torch.load(filename)\n",
    "    \n",
    "    policy.load_state_dict(weights['policy'])\n",
    "    \n",
    "else:\n",
    "    # Train\n",
    "    \n",
    "    ### TODO some training here, maybe? Or run this on a different machine?\n",
    "    torch.manual_seed(42)\n",
    "    \n",
    "    print(f\"Saving weights to {filename}\")\n",
    "    torch.save({\n",
    "        # You can add more here if you need, e.g. critic\n",
    "        'policy': policy.state_dict()  # Always save weights rather than objects\n",
    "    },\n",
    "    filename)\n",
    "    \n",
    "def bonus_get_action(x):\n",
    "    return policy(x).exp().multinomial(1)[:, 0]"
   ]
  },
  {
   "cell_type": "code",
   "execution_count": null,
   "metadata": {
    "deletable": false,
    "editable": false,
    "nbgrader": {
     "checksum": "b800bfb91f987f14e0c35bc0c41d538b",
     "grade": true,
     "grade_id": "cell-0d7bd58a23fdfabb",
     "locked": true,
     "points": 5,
     "schema_version": 1,
     "solution": false
    }
   },
   "outputs": [],
   "source": [
    "seed = 42\n",
    "episode_durations = []\n",
    "for i in range(20):  # Not too many since it may take forever to render\n",
    "    test_env = CartPoleRawEnv()\n",
    "    test_env.seed(seed + i)\n",
    "    state = test_env.reset()\n",
    "    done = False\n",
    "    steps = 0\n",
    "    while not done:\n",
    "        steps += 1\n",
    "        with torch.no_grad():\n",
    "            action = bonus_get_action(state).item()\n",
    "        state, reward, done, _ = test_env.step(action)\n",
    "    episode_durations.append(steps)\n",
    "    test_env.close()\n",
    "    \n",
    "plt.plot(smooth(episode_durations, 100))\n",
    "plt.title('Episode durations')\n",
    "plt.show()\n"
   ]
  },
  {
   "cell_type": "code",
   "execution_count": null,
   "metadata": {},
   "outputs": [],
   "source": []
  }
 ],
 "metadata": {
  "kernelspec": {
   "display_name": "Python 3",
   "language": "python",
   "name": "python3"
  },
  "language_info": {
   "codemirror_mode": {
    "name": "ipython",
    "version": 3
   },
   "file_extension": ".py",
   "mimetype": "text/x-python",
   "name": "python",
   "nbconvert_exporter": "python",
   "pygments_lexer": "ipython3",
   "version": "3.6.6"
  }
 },
 "nbformat": 4,
 "nbformat_minor": 2
}
