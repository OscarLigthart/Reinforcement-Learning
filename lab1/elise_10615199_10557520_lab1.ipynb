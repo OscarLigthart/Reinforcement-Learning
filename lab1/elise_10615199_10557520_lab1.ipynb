{
 "cells": [
  {
   "cell_type": "markdown",
   "metadata": {},
   "source": [
    "Parts of this assignment will be **automatically graded**. Please take note of the following:\n",
    "- Before you turn this problem in, make sure everything runs as expected. First, **restart the kernel** (in the menubar, select Kernel$\\rightarrow$Restart) and then **run all cells** (in the menubar, select Cell$\\rightarrow$Run All).\n",
    "- You can add additional cells, but it is not recommended to (re)move cells. Cells required for autograding cannot be moved and cells containing tests cannot be edited.\n",
    "- You are allowed to use a service such as [Google Colaboratory](https://colab.research.google.com/) to work together. However, you **cannot** hand in the notebook that was hosted on Google Colaboratory, but you need to copy your answers into the original notebook and verify that it runs succesfully offline. This is because Google Colaboratory destroys the metadata required for grading.\n",
    "- Name your notebook **exactly** `{TA_name}_{student1_id}_{student2_id}_lab{i}.ipynb`, for example `wouter_12345_67890_lab1.ipynb` (or elise or stephan, depending on your TA), **otherwise your submission will be skipped by our regex and you will get 0 points** (but no penalty as we cannot parse your student ids ;)).\n",
    "\n",
    "Make sure you fill in any place that says `YOUR CODE HERE` or \"YOUR ANSWER HERE\", as well as your names below:"
   ]
  },
  {
   "cell_type": "code",
   "execution_count": 1,
   "metadata": {},
   "outputs": [],
   "source": [
    "NAMES = \"Arend van Dormalen and Oscar Ligthart\""
   ]
  },
  {
   "cell_type": "markdown",
   "metadata": {},
   "source": [
    "---"
   ]
  },
  {
   "cell_type": "code",
   "execution_count": 1,
   "metadata": {
    "deletable": false,
    "editable": false,
    "nbgrader": {
     "checksum": "4eed621d3748a44866956caa0de5247b",
     "grade": false,
     "grade_id": "cell-fc69f22067705372",
     "locked": true,
     "schema_version": 1,
     "solution": false
    }
   },
   "outputs": [],
   "source": [
    "import numpy as np\n",
    "import matplotlib.pyplot as plt\n",
    "import sys\n",
    "from tqdm import tqdm as _tqdm\n",
    "\n",
    "def tqdm(*args, **kwargs):\n",
    "    return _tqdm(*args, **kwargs, mininterval=1)  # Safety, do not overflow buffer\n",
    "\n",
    "%matplotlib inline\n",
    "\n",
    "assert sys.version_info[:3] >= (3, 6, 0), \"Make sure you have Python 3.6 installed!\""
   ]
  },
  {
   "cell_type": "markdown",
   "metadata": {
    "deletable": false,
    "editable": false,
    "nbgrader": {
     "checksum": "bab7b3976d6730a0739fd462766b1d42",
     "grade": false,
     "grade_id": "cell-9ebb0d5b306dbdea",
     "locked": true,
     "schema_version": 1,
     "solution": false
    }
   },
   "source": [
    "---\n",
    "## 1. Policy Evaluation (1 point)"
   ]
  },
  {
   "cell_type": "markdown",
   "metadata": {
    "deletable": false,
    "editable": false,
    "nbgrader": {
     "checksum": "8d010aef9b5b288e694006a2aefe67e0",
     "grade": false,
     "grade_id": "cell-1078e8f0b90517ce",
     "locked": true,
     "schema_version": 1,
     "solution": false
    }
   },
   "source": [
    "In this exercise we will evaluate a policy, e.g. find the value function for a policy. The problem we consider is the gridworld from Example 4.1 in the book. The environment is implemented as `GridworldEnv`, which is a subclass of the `Env` class from [OpenAI Gym](https://github.com/openai/gym). This means that we can interact with the environment. We can look at the documentation to see how we can interact with the environment."
   ]
  },
  {
   "cell_type": "code",
   "execution_count": 3,
   "metadata": {
    "deletable": false,
    "editable": false,
    "nbgrader": {
     "checksum": "990081b68602e7e0c46f2edeab0fcb53",
     "grade": false,
     "grade_id": "cell-de586c5ac92d8d74",
     "locked": true,
     "schema_version": 1,
     "solution": false
    }
   },
   "outputs": [],
   "source": [
    "from gridworld import GridworldEnv\n",
    "env = GridworldEnv()\n",
    "# Lets see what this is\n",
    "?env"
   ]
  },
  {
   "cell_type": "code",
   "execution_count": 4,
   "metadata": {
    "deletable": false,
    "editable": false,
    "nbgrader": {
     "checksum": "814f4db75653991276d29ebff9d6ae37",
     "grade": false,
     "grade_id": "cell-b3a84dfb0e66a0c0",
     "locked": true,
     "schema_version": 1,
     "solution": false
    }
   },
   "outputs": [],
   "source": [
    "# To have a quick look into the code\n",
    "??env"
   ]
  },
  {
   "cell_type": "markdown",
   "metadata": {
    "deletable": false,
    "editable": false,
    "nbgrader": {
     "checksum": "fe850a3b9a1be42ae79b895d206ac3b6",
     "grade": false,
     "grade_id": "cell-b2162d776f0c2014",
     "locked": true,
     "schema_version": 1,
     "solution": false
    }
   },
   "source": [
    "Now we want to evaluate a policy by using Dynamic Programming. For more information, see the [Intro to RL](https://drive.google.com/open?id=1opPSz5AZ_kVa1uWOdOiveNiBFiEOHjkG) book, section 4.1. This algorithm requires knowledge of the problem dynamics in the form of the transition probabilities $p(s',r|s,a)$. In general these are not available, but for our gridworld we know the dynamics and these can be accessed as `env.P`."
   ]
  },
  {
   "cell_type": "code",
   "execution_count": 5,
   "metadata": {},
   "outputs": [
    {
     "data": {
      "text/plain": [
       "{0: {0: [(1.0, 0, 0.0, True)],\n",
       "  1: [(1.0, 0, 0.0, True)],\n",
       "  2: [(1.0, 0, 0.0, True)],\n",
       "  3: [(1.0, 0, 0.0, True)]},\n",
       " 1: {0: [(1.0, 1, -1.0, False)],\n",
       "  1: [(1.0, 2, -1.0, False)],\n",
       "  2: [(1.0, 5, -1.0, False)],\n",
       "  3: [(1.0, 0, -1.0, True)]},\n",
       " 2: {0: [(1.0, 2, -1.0, False)],\n",
       "  1: [(1.0, 3, -1.0, False)],\n",
       "  2: [(1.0, 6, -1.0, False)],\n",
       "  3: [(1.0, 1, -1.0, False)]},\n",
       " 3: {0: [(1.0, 3, -1.0, False)],\n",
       "  1: [(1.0, 3, -1.0, False)],\n",
       "  2: [(1.0, 7, -1.0, False)],\n",
       "  3: [(1.0, 2, -1.0, False)]},\n",
       " 4: {0: [(1.0, 0, -1.0, True)],\n",
       "  1: [(1.0, 5, -1.0, False)],\n",
       "  2: [(1.0, 8, -1.0, False)],\n",
       "  3: [(1.0, 4, -1.0, False)]},\n",
       " 5: {0: [(1.0, 1, -1.0, False)],\n",
       "  1: [(1.0, 6, -1.0, False)],\n",
       "  2: [(1.0, 9, -1.0, False)],\n",
       "  3: [(1.0, 4, -1.0, False)]},\n",
       " 6: {0: [(1.0, 2, -1.0, False)],\n",
       "  1: [(1.0, 7, -1.0, False)],\n",
       "  2: [(1.0, 10, -1.0, False)],\n",
       "  3: [(1.0, 5, -1.0, False)]},\n",
       " 7: {0: [(1.0, 3, -1.0, False)],\n",
       "  1: [(1.0, 7, -1.0, False)],\n",
       "  2: [(1.0, 11, -1.0, False)],\n",
       "  3: [(1.0, 6, -1.0, False)]},\n",
       " 8: {0: [(1.0, 4, -1.0, False)],\n",
       "  1: [(1.0, 9, -1.0, False)],\n",
       "  2: [(1.0, 12, -1.0, False)],\n",
       "  3: [(1.0, 8, -1.0, False)]},\n",
       " 9: {0: [(1.0, 5, -1.0, False)],\n",
       "  1: [(1.0, 10, -1.0, False)],\n",
       "  2: [(1.0, 13, -1.0, False)],\n",
       "  3: [(1.0, 8, -1.0, False)]},\n",
       " 10: {0: [(1.0, 6, -1.0, False)],\n",
       "  1: [(1.0, 11, -1.0, False)],\n",
       "  2: [(1.0, 14, -1.0, False)],\n",
       "  3: [(1.0, 9, -1.0, False)]},\n",
       " 11: {0: [(1.0, 7, -1.0, False)],\n",
       "  1: [(1.0, 11, -1.0, False)],\n",
       "  2: [(1.0, 15, -1.0, True)],\n",
       "  3: [(1.0, 10, -1.0, False)]},\n",
       " 12: {0: [(1.0, 8, -1.0, False)],\n",
       "  1: [(1.0, 13, -1.0, False)],\n",
       "  2: [(1.0, 12, -1.0, False)],\n",
       "  3: [(1.0, 12, -1.0, False)]},\n",
       " 13: {0: [(1.0, 9, -1.0, False)],\n",
       "  1: [(1.0, 14, -1.0, False)],\n",
       "  2: [(1.0, 13, -1.0, False)],\n",
       "  3: [(1.0, 12, -1.0, False)]},\n",
       " 14: {0: [(1.0, 10, -1.0, False)],\n",
       "  1: [(1.0, 15, -1.0, True)],\n",
       "  2: [(1.0, 14, -1.0, False)],\n",
       "  3: [(1.0, 13, -1.0, False)]},\n",
       " 15: {0: [(1.0, 15, 0.0, True)],\n",
       "  1: [(1.0, 15, 0.0, True)],\n",
       "  2: [(1.0, 15, 0.0, True)],\n",
       "  3: [(1.0, 15, 0.0, True)]}}"
      ]
     },
     "execution_count": 5,
     "metadata": {},
     "output_type": "execute_result"
    }
   ],
   "source": [
    "# Take a moment to figure out what P represents. \n",
    "# Note that this is a deterministic environment. \n",
    "# What would a stochastic environment look like?\n",
    "env.P"
   ]
  },
  {
   "cell_type": "code",
   "execution_count": 6,
   "metadata": {
    "deletable": false,
    "nbgrader": {
     "checksum": "d2d2b829d45d264cf8a6194dc8ccc132",
     "grade": false,
     "grade_id": "cell-209a484040bd874f",
     "locked": false,
     "schema_version": 1,
     "solution": true
    }
   },
   "outputs": [],
   "source": [
    "def policy_eval(policy, env, discount_factor=1.0, theta=0.00001):\n",
    "    \"\"\"\n",
    "    Evaluate a policy given an environment and a full description of the environment's dynamics.\n",
    "    \n",
    "    Args:\n",
    "        policy: [S, A] shaped matrix representing the policy.\n",
    "        env: OpenAI env. env.P represents the transition probabilities of the environment.\n",
    "            env.P[s][a] is a list of transition tuples (prob, next_state, reward, done).\n",
    "            env.nS is a number of states in the environment. \n",
    "            env.nA is a number of actions in the environment.\n",
    "        theta: We stop evaluation once our value function change is less than theta for all states.\n",
    "        discount_factor: Gamma discount factor.\n",
    "    \n",
    "    Returns:\n",
    "        Vector of length env.nS representing the value function.\n",
    "    \"\"\"\n",
    "    # Start with a random (all 0) value function\n",
    "    V = np.zeros(env.nS)\n",
    "\n",
    "    while True:\n",
    "        # initialize new value function\n",
    "        V_new = np.zeros_like(V)\n",
    "\n",
    "        # loop through all states and actions\n",
    "        for state in range(len(V)):\n",
    "            for action in range(env.nA):\n",
    "                # get reward and next state\n",
    "                reward = env.P[state][action][0][2]\n",
    "                next_state = env.P[state][action][0][1]\n",
    "                \n",
    "                # for each state, sum over all actions                \n",
    "                V_new[state] += policy[state][action] * (reward + discount_factor * V[next_state])\n",
    "          \n",
    "        # exit if difference between V_new and V is lower than parameter theta\n",
    "        if np.allclose(V_new, V, theta):\n",
    "            V = V_new\n",
    "            break\n",
    "        \n",
    "        # update V\n",
    "        V = V_new\n",
    "\n",
    "    return np.array(V)"
   ]
  },
  {
   "cell_type": "code",
   "execution_count": 7,
   "metadata": {},
   "outputs": [
    {
     "data": {
      "text/plain": [
       "array([  0.        , -13.99771852, -19.99661926, -21.99621676,\n",
       "       -13.99771852, -17.99702177, -19.99664188, -19.99661926,\n",
       "       -19.99661926, -19.99664188, -17.99702177, -13.99771852,\n",
       "       -21.99621676, -19.99661926, -13.99771852,   0.        ])"
      ]
     },
     "execution_count": 7,
     "metadata": {},
     "output_type": "execute_result"
    }
   ],
   "source": [
    "# Let's run your code, does it make sense?\n",
    "random_policy = np.ones([env.nS, env.nA]) / env.nA\n",
    "V = policy_eval(random_policy, env)\n",
    "V\n"
   ]
  },
  {
   "cell_type": "code",
   "execution_count": 8,
   "metadata": {},
   "outputs": [
    {
     "data": {
      "image/png": "[encoded data removed]",
      "text/plain": [
       "<Figure size 432x288 with 2 Axes>"
      ]
     },
     "metadata": {
      "needs_background": "light"
     },
     "output_type": "display_data"
    }
   ],
   "source": [
    "def plot_gridworld_value(V):\n",
    "    plt.figure()\n",
    "    c = plt.pcolormesh(V, cmap='gray')\n",
    "    plt.colorbar(c)\n",
    "    plt.gca().invert_yaxis()  # In the array, first row = 0 is on top\n",
    "    plt.title('State Values')\n",
    "\n",
    "# Making a plot always helps\n",
    "plot_gridworld_value(V.reshape(env.shape))"
   ]
  },
  {
   "cell_type": "code",
   "execution_count": 9,
   "metadata": {
    "deletable": false,
    "editable": false,
    "nbgrader": {
     "checksum": "5d879d65fc89af254883e1b68234e76e",
     "grade": true,
     "grade_id": "cell-b5c9d69b1731aff5",
     "locked": true,
     "points": 1,
     "schema_version": 1,
     "solution": false
    }
   },
   "outputs": [],
   "source": [
    "# Test: When you hand in the nodebook we will check that the value function is (approximately) what we expected\n",
    "# but we need to make sure it is at least of the correct shape\n",
    "v = policy_eval(random_policy, env)\n",
    "assert v.shape == (env.nS)"
   ]
  },
  {
   "cell_type": "markdown",
   "metadata": {
    "deletable": false,
    "editable": false,
    "nbgrader": {
     "checksum": "863ed58baecbbb4923162f40084e870d",
     "grade": false,
     "grade_id": "cell-b680e98c9ff204b8",
     "locked": true,
     "schema_version": 1,
     "solution": false
    }
   },
   "source": [
    "---\n",
    "## 2. Policy Iteration (2 points)\n",
    "Using the policy evaluation algorithm we can implement policy iteration to find a good policy for this problem. Note that we do not need to use a discount_factor for episodic tasks but make sure your implementation can handle this correctly!"
   ]
  },
  {
   "cell_type": "code",
   "execution_count": 10,
   "metadata": {
    "deletable": false,
    "nbgrader": {
     "checksum": "cfa494b2b437f9007f6b29b1ed5e0f78",
     "grade": false,
     "grade_id": "cell-383c54749617512c",
     "locked": false,
     "schema_version": 1,
     "solution": true
    }
   },
   "outputs": [],
   "source": [
    "def policy_improvement(env, discount_factor=1.0):\n",
    "    \"\"\"\n",
    "    Policy Improvement Algorithm. Iteratively evaluates and improves a policy\n",
    "    until an optimal policy is found.\n",
    "    \n",
    "    Args:\n",
    "        env: The OpenAI envrionment.\n",
    "        policy_eval_fn: Policy Evaluation function that takes 3 arguments:\n",
    "            policy, env, discount_factor.\n",
    "        discount_factor: gamma discount factor.\n",
    "        \n",
    "    Returns:\n",
    "        A tuple (policy, V). \n",
    "        policy is the optimal policy, a matrix of shape [S, A] where each state s\n",
    "        contains a valid probability distribution over actions.\n",
    "        V is the value function for the optimal policy.\n",
    "        \n",
    "    \"\"\"\n",
    "    # Start with a random policy\n",
    "    policy = np.ones([env.nS, env.nA]) / env.nA\n",
    "    \n",
    "    while True:        \n",
    "        # get converged state values\n",
    "        V = policy_eval(policy, env, discount_factor)  \n",
    "        \n",
    "        # initialize new policy\n",
    "        new_policy = np.zeros_like(policy)\n",
    "        \n",
    "        # for every state\n",
    "        for state in range(env.nS):\n",
    "            \n",
    "            # get max action (calculate q-values for all actions and pick highest value)\n",
    "            q_list = []\n",
    "            for action in range(env.nA):\n",
    "                # get reward and next state\n",
    "                reward = env.P[state][action][0][2]\n",
    "                next_state = env.P[state][action][0][1]\n",
    "                \n",
    "                # calculate q-values and keep track of them for all actions\n",
    "                q = (reward + discount_factor * V[next_state])\n",
    "                q_list.append(q)\n",
    "                \n",
    "            # choose best action\n",
    "            best_action = np.argmax(q_list)\n",
    "            \n",
    "            # update policy in a deterministic way\n",
    "            new_policy[state][best_action] = 1\n",
    "        \n",
    "        # check if new policy is the same as the previous policy\n",
    "        if np.array_equal(new_policy, policy):\n",
    "            break\n",
    "            \n",
    "        policy = new_policy\n",
    "    \n",
    "    return policy, V\n"
   ]
  },
  {
   "cell_type": "code",
   "execution_count": 11,
   "metadata": {
    "deletable": false,
    "editable": false,
    "nbgrader": {
     "checksum": "c4ab9c8d01a5902c276a3fbfbcc89e01",
     "grade": true,
     "grade_id": "cell-8c62e92d1f34720b",
     "locked": true,
     "points": 1,
     "schema_version": 1,
     "solution": false
    }
   },
   "outputs": [
    {
     "name": "stdout",
     "output_type": "stream",
     "text": [
      "Policy Probability Distribution:\n",
      "[[1. 0. 0. 0.]\n",
      " [0. 0. 0. 1.]\n",
      " [0. 0. 0. 1.]\n",
      " [0. 0. 1. 0.]\n",
      " [1. 0. 0. 0.]\n",
      " [1. 0. 0. 0.]\n",
      " [1. 0. 0. 0.]\n",
      " [0. 0. 1. 0.]\n",
      " [1. 0. 0. 0.]\n",
      " [1. 0. 0. 0.]\n",
      " [0. 1. 0. 0.]\n",
      " [0. 0. 1. 0.]\n",
      " [1. 0. 0. 0.]\n",
      " [0. 1. 0. 0.]\n",
      " [0. 1. 0. 0.]\n",
      " [1. 0. 0. 0.]]\n",
      "\n",
      "Reshaped Grid Policy (0=up, 1=right, 2=down, 3=left):\n",
      "[[0 3 3 2]\n",
      " [0 0 0 2]\n",
      " [0 0 1 2]\n",
      " [0 1 1 0]]\n",
      "^<<v\n",
      "^^^v\n",
      "^^>v\n",
      "^>>^\n",
      "\n",
      "Value Function:\n",
      "[ 0. -1. -2. -3. -1. -2. -3. -2. -2. -3. -2. -1. -3. -2. -1.  0.]\n",
      "\n",
      "Reshaped Grid Value Function:\n",
      "[[ 0. -1. -2. -3.]\n",
      " [-1. -2. -3. -2.]\n",
      " [-2. -3. -2. -1.]\n",
      " [-3. -2. -1.  0.]]\n",
      "\n"
     ]
    },
    {
     "data": {
      "image/png": "[encoded data removed]",
      "text/plain": [
       "<Figure size 432x288 with 2 Axes>"
      ]
     },
     "metadata": {
      "needs_background": "light"
     },
     "output_type": "display_data"
    }
   ],
   "source": [
    "# Let's see what it does\n",
    "policy, v = policy_improvement(env)\n",
    "print(\"Policy Probability Distribution:\")\n",
    "print(policy)\n",
    "print(\"\")\n",
    "\n",
    "def print_grid_policy(policy, symbols=[\"^\", \">\", \"v\", \"<\"]):\n",
    "    symbols = np.array(symbols)\n",
    "    for row in policy:\n",
    "        print(\"\".join(symbols[row]))\n",
    "\n",
    "print(\"Reshaped Grid Policy (0=up, 1=right, 2=down, 3=left):\")\n",
    "print(np.reshape(np.argmax(policy, axis=1), env.shape))\n",
    "print_grid_policy(np.reshape(np.argmax(policy, axis=1), env.shape))\n",
    "print(\"\")\n",
    "\n",
    "print(\"Value Function:\")\n",
    "print(v)\n",
    "print(\"\")\n",
    "\n",
    "print(\"Reshaped Grid Value Function:\")\n",
    "print(v.reshape(env.shape))\n",
    "print(\"\")\n",
    "\n",
    "plot_gridworld_value(v.reshape(env.shape))"
   ]
  },
  {
   "cell_type": "code",
   "execution_count": 12,
   "metadata": {},
   "outputs": [
    {
     "name": "stdout",
     "output_type": "stream",
     "text": [
      "0.025420188903808594\n"
     ]
    }
   ],
   "source": [
    "import time\n",
    "a = time.time()\n",
    "policy, v = policy_improvement(env)\n",
    "print(time.time() - a)"
   ]
  },
  {
   "cell_type": "code",
   "execution_count": 13,
   "metadata": {
    "deletable": false,
    "editable": false,
    "nbgrader": {
     "checksum": "eee712b931eb830cb89792ef30675558",
     "grade": true,
     "grade_id": "cell-695dc14dbc6a8f95",
     "locked": true,
     "points": 1,
     "schema_version": 1,
     "solution": false
    }
   },
   "outputs": [],
   "source": [
    "# This is not an empty cell. It is needed for grading."
   ]
  },
  {
   "cell_type": "markdown",
   "metadata": {
    "deletable": false,
    "editable": false,
    "nbgrader": {
     "checksum": "c926edcbca292c79812c5b27eab63108",
     "grade": false,
     "grade_id": "cell-ceb755afcff43612",
     "locked": true,
     "schema_version": 1,
     "solution": false
    }
   },
   "source": [
    "---\n",
    "## 3. Value Iteration (3 points)\n",
    "Now implement the value iteration algorithm."
   ]
  },
  {
   "cell_type": "code",
   "execution_count": 14,
   "metadata": {
    "deletable": false,
    "nbgrader": {
     "checksum": "87f515e22f7ad0ea461271479dff3f5e",
     "grade": false,
     "grade_id": "cell-574fc5f6932fa4cc",
     "locked": false,
     "schema_version": 1,
     "solution": true
    }
   },
   "outputs": [],
   "source": [
    "def value_iteration(env, theta=0.0001, discount_factor=1.0):\n",
    "    \"\"\"\n",
    "    Value Iteration Algorithm.\n",
    "    \n",
    "    Args:\n",
    "        env: OpenAI env. env.P represents the transition probabilities of the environment.\n",
    "            env.P[s][a] is a list of transition tuples (prob, next_state, reward, done).\n",
    "            env.nS is a number of states in the environment. \n",
    "            env.nA is a number of actions in the environment.\n",
    "        theta: We stop evaluation once our value function change is less than theta for all states.\n",
    "        discount_factor: Gamma discount factor.\n",
    "        \n",
    "    Returns:\n",
    "        A tuple (policy, V) of the optimal policy and the optimal value function.        \n",
    "    \"\"\"    \n",
    "\n",
    "    V = np.zeros(env.nS)\n",
    "    policy = np.zeros([env.nS, env.nA])\n",
    "    \n",
    "    delta = 1\n",
    "    while delta > theta:\n",
    "        policy = np.zeros([env.nS, env.nA])\n",
    "        delta = 0 \n",
    "        for state in range(env.nS):\n",
    "            # save current state value\n",
    "            v = V[state]\n",
    "\n",
    "            # get max action (calculate q-values for all actions and pick highest value)\n",
    "            q_list = []\n",
    "            for action in range(env.nA):\n",
    "                # get reward and next state\n",
    "                reward = env.P[state][action][0][2]\n",
    "                next_state = env.P[state][action][0][1]\n",
    "                \n",
    "                # calculate q-values and keep track of them for all actions\n",
    "                q = (reward + discount_factor * V[next_state])\n",
    "                q_list.append(q)\n",
    "                \n",
    "            # choose best action\n",
    "            best_action = np.argmax(q_list)\n",
    "            \n",
    "            # get reward and next state based on best action\n",
    "            reward = env.P[state][best_action][0][2]\n",
    "            next_state = env.P[state][best_action][0][1]\n",
    "\n",
    "            # update state value and deterministic policy\n",
    "            V[state] = (reward + discount_factor * V[next_state])\n",
    "            policy[state][best_action] = 1\n",
    "            \n",
    "            # keep track of maximum state difference\n",
    "            delta = max(delta, abs(v - V[state]))\n",
    "    \n",
    "    return policy, V"
   ]
  },
  {
   "cell_type": "code",
   "execution_count": 15,
   "metadata": {
    "deletable": false,
    "editable": false,
    "nbgrader": {
     "checksum": "d103427f5b98a8957ad486243f98e64c",
     "grade": true,
     "grade_id": "cell-b82ed3adfeecc757",
     "locked": true,
     "points": 1,
     "schema_version": 1,
     "solution": false
    }
   },
   "outputs": [
    {
     "name": "stdout",
     "output_type": "stream",
     "text": [
      "Policy Probability Distribution:\n",
      "[[1. 0. 0. 0.]\n",
      " [0. 0. 0. 1.]\n",
      " [0. 0. 0. 1.]\n",
      " [0. 0. 1. 0.]\n",
      " [1. 0. 0. 0.]\n",
      " [1. 0. 0. 0.]\n",
      " [1. 0. 0. 0.]\n",
      " [0. 0. 1. 0.]\n",
      " [1. 0. 0. 0.]\n",
      " [1. 0. 0. 0.]\n",
      " [0. 1. 0. 0.]\n",
      " [0. 0. 1. 0.]\n",
      " [1. 0. 0. 0.]\n",
      " [0. 1. 0. 0.]\n",
      " [0. 1. 0. 0.]\n",
      " [1. 0. 0. 0.]]\n",
      "\n",
      "Reshaped Grid Policy (0=up, 1=right, 2=down, 3=left):\n",
      "[[0 3 3 2]\n",
      " [0 0 0 2]\n",
      " [0 0 1 2]\n",
      " [0 1 1 0]]\n",
      "^<<v\n",
      "^^^v\n",
      "^^>v\n",
      "^>>^\n",
      "\n",
      "Value Function:\n",
      "[ 0. -1. -2. -3. -1. -2. -3. -2. -2. -3. -2. -1. -3. -2. -1.  0.]\n",
      "\n",
      "Reshaped Grid Value Function:\n",
      "[[ 0. -1. -2. -3.]\n",
      " [-1. -2. -3. -2.]\n",
      " [-2. -3. -2. -1.]\n",
      " [-3. -2. -1.  0.]]\n",
      "\n"
     ]
    }
   ],
   "source": [
    "# Oh let's test again\n",
    "# Let's see what it does\n",
    "policy, v = value_iteration(env)\n",
    "print(\"Policy Probability Distribution:\")\n",
    "print(policy)\n",
    "print(\"\")\n",
    "\n",
    "print(\"Reshaped Grid Policy (0=up, 1=right, 2=down, 3=left):\")\n",
    "print(np.reshape(np.argmax(policy, axis=1), env.shape))\n",
    "print_grid_policy(np.reshape(np.argmax(policy, axis=1), env.shape))\n",
    "print(\"\")\n",
    "\n",
    "print(\"Value Function:\")\n",
    "print(v)\n",
    "print(\"\")\n",
    "\n",
    "print(\"Reshaped Grid Value Function:\")\n",
    "print(v.reshape(env.shape))\n",
    "print(\"\")\n"
   ]
  },
  {
   "cell_type": "code",
   "execution_count": 16,
   "metadata": {},
   "outputs": [
    {
     "name": "stdout",
     "output_type": "stream",
     "text": [
      "0.0008602142333984375\n"
     ]
    }
   ],
   "source": [
    "import time\n",
    "a = time.time()\n",
    "policy, v = value_iteration(env)\n",
    "print(time.time() - a)"
   ]
  },
  {
   "cell_type": "markdown",
   "metadata": {
    "deletable": false,
    "editable": false,
    "nbgrader": {
     "checksum": "3add7d8b6101d0e3b6250b6bb064566c",
     "grade": false,
     "grade_id": "cell-ded21ac846e244a3",
     "locked": true,
     "schema_version": 1,
     "solution": false
    }
   },
   "source": [
    "What is the difference between value iteration and policy iteration? Which algorithm is most efficient (e.g. needs to perform the least *backup* operations)? Please answer *concisely* in the cell below."
   ]
  },
  {
   "cell_type": "markdown",
   "metadata": {
    "deletable": false,
    "nbgrader": {
     "checksum": "078f713af4c6bf3af8fb31b8da772758",
     "grade": true,
     "grade_id": "cell-940a8d8e21f18f69",
     "locked": false,
     "points": 2,
     "schema_version": 1,
     "solution": true
    }
   },
   "source": [
    "**OUR ANSWER**\n",
    "\n",
    "The difference between value iteration and policy iteration lies in its iteration steps. In policy iteration, we update the state-values until convergence before updating the policy. In value iteration, we update the state-values once before updating the policy.\n",
    "\n",
    "This makes value iteration more efficient in theory. In our gridworld environment, we find that value iteration is about 7 times faster. \n",
    "However, it should be noted that this efficiency increase does not hold for more complicated environments. In these environments, a single update of the state-values might not be sufficient for updating the policy. This means that the number of iterations in value iteration will be much larger than for policy iteration in this case."
   ]
  },
  {
   "cell_type": "markdown",
   "metadata": {
    "deletable": false,
    "editable": false,
    "nbgrader": {
     "checksum": "98ec4e85c09c116f6fe1658fa0451e33",
     "grade": false,
     "grade_id": "cell-7ab207a9f93cf4d3",
     "locked": true,
     "schema_version": 1,
     "solution": false
    }
   },
   "source": [
    "## 4. Monte Carlo Prediction (7 points)\n",
    "What is the difference between Dynamic Programming and Monte Carlo? When would you use the one or the other algorithm?"
   ]
  },
  {
   "cell_type": "markdown",
   "metadata": {
    "deletable": false,
    "nbgrader": {
     "checksum": "dba98a584a2d9c97735f96547ac7442a",
     "grade": true,
     "grade_id": "cell-74a904ed87b8e2cc",
     "locked": false,
     "points": 2,
     "schema_version": 1,
     "solution": true
    }
   },
   "source": [
    "**OUR ANSWER**\n",
    "\n",
    "Dynamic Programming explores all state-action transitions before going deeper into further states (breadth-first). Monte Carlo is a depth-first algorithm, meaning it samples state-action transitions per state until it reaches a terminal state.\n",
    "\n",
    "You can only use Dynamic Programming if all state-action transitions are known, while Monte Carlo does not have this constraint due to the fact that it can estimate these transitions.\n"
   ]
  },
  {
   "cell_type": "markdown",
   "metadata": {
    "deletable": false,
    "editable": false,
    "nbgrader": {
     "checksum": "0d826feda7dc9cab51ad9db8ccbdfadf",
     "grade": false,
     "grade_id": "cell-5f0c1d608436b67b",
     "locked": true,
     "schema_version": 1,
     "solution": false
    }
   },
   "source": [
    "For the Monte Carlo Prediction we will look at the Blackjack game (Example 5.1 from the book), for which the `BlackjackEnv` is implemented in `blackjack.py`. Note that compared to the gridworld, the state is no longer a single integer, which is why we use a dictionary to represent the value function instead of a numpy array. By using `defaultdict`, each state gets a default value of 0."
   ]
  },
  {
   "cell_type": "code",
   "execution_count": 3,
   "metadata": {
    "deletable": false,
    "editable": false,
    "nbgrader": {
     "checksum": "fb7a884505c5973aff2fe9998cc104e2",
     "grade": false,
     "grade_id": "cell-a342b69fcfdea5b2",
     "locked": true,
     "schema_version": 1,
     "solution": false
    }
   },
   "outputs": [],
   "source": [
    "from blackjack import BlackjackEnv\n",
    "env = BlackjackEnv()"
   ]
  },
  {
   "cell_type": "markdown",
   "metadata": {
    "deletable": false,
    "editable": false,
    "nbgrader": {
     "checksum": "26ae90f402b5de7d07f23e776a525c4b",
     "grade": false,
     "grade_id": "cell-7366692dee80c32c",
     "locked": true,
     "schema_version": 1,
     "solution": false
    }
   },
   "source": [
    "For the Monte Carlo algorithm, we need to *interact* with the environment. This means that we start an episode by using `env.reset` and send the environment actions via `env.step` to observe the reward and next observation (state)."
   ]
  },
  {
   "cell_type": "code",
   "execution_count": 4,
   "metadata": {
    "deletable": false,
    "editable": false,
    "nbgrader": {
     "checksum": "ef5fc8c121d400f2192646c9201e7769",
     "grade": false,
     "grade_id": "cell-85356add2643980e",
     "locked": true,
     "schema_version": 1,
     "solution": false
    }
   },
   "outputs": [],
   "source": [
    "# So let's have a look at what we can do in general with an environment...\n",
    "import gym\n",
    "?gym.Env"
   ]
  },
  {
   "cell_type": "code",
   "execution_count": 5,
   "metadata": {
    "deletable": false,
    "editable": false,
    "nbgrader": {
     "checksum": "0433c9161cddc2d9171c8e87b1e9b444",
     "grade": false,
     "grade_id": "cell-251b7b17c5d08a24",
     "locked": true,
     "schema_version": 1,
     "solution": false
    }
   },
   "outputs": [],
   "source": [
    "# We can also look at the documentation/implementation of a method\n",
    "?env.step"
   ]
  },
  {
   "cell_type": "code",
   "execution_count": 6,
   "metadata": {
    "deletable": false,
    "editable": false,
    "nbgrader": {
     "checksum": "42aceb4ea182a1aacfb40c5f201d4b01",
     "grade": false,
     "grade_id": "cell-6decb2ab83c5bcec",
     "locked": true,
     "schema_version": 1,
     "solution": false
    }
   },
   "outputs": [],
   "source": [
    "??BlackjackEnv"
   ]
  },
  {
   "cell_type": "markdown",
   "metadata": {
    "deletable": false,
    "editable": false,
    "nbgrader": {
     "checksum": "8fa896a9ea64567134c861511cfa6011",
     "grade": false,
     "grade_id": "cell-ae161126d3cb1b7b",
     "locked": true,
     "schema_version": 1,
     "solution": false
    }
   },
   "source": [
    "A very simple policy for Blackjack is to *stick* if we have 20 or 21 points and *hit* otherwise. We want to know how good this policy is. This policy is *deterministic* and therefore a function that maps an observation to a single action. Technically, we can implement this as a dictionary or as a function, where we use the latter. To get started, let's implement this simple policy for BlackJack."
   ]
  },
  {
   "cell_type": "code",
   "execution_count": 7,
   "metadata": {
    "deletable": false,
    "nbgrader": {
     "checksum": "0a51bbe0d24d711482d0d0770e955a16",
     "grade": false,
     "grade_id": "cell-9fdcb503df9cdb08",
     "locked": false,
     "schema_version": 1,
     "solution": true
    }
   },
   "outputs": [],
   "source": [
    "def simple_policy(observation):\n",
    "    \"\"\"\n",
    "    A policy that sticks if the player score is >= 20 and hits otherwise.\n",
    "    \"\"\"\n",
    "\n",
    "    # check whether player score is >= 20\n",
    "    if observation[0] >= 20:\n",
    "        # stick\n",
    "        a = 0\n",
    "    else:\n",
    "        # hit\n",
    "        a = 1\n",
    "    \n",
    "    return a\n"
   ]
  },
  {
   "cell_type": "code",
   "execution_count": 8,
   "metadata": {
    "deletable": false,
    "editable": false,
    "nbgrader": {
     "checksum": "bf04382f012b102f2c5c360bb8da3241",
     "grade": true,
     "grade_id": "cell-99f02e2d9b338a5b",
     "locked": true,
     "points": 1,
     "schema_version": 1,
     "solution": false
    }
   },
   "outputs": [
    {
     "name": "stdout",
     "output_type": "stream",
     "text": [
      "(19, 10, False)\n",
      "((24, 10, False), -1, True, {})\n"
     ]
    }
   ],
   "source": [
    "s = env.reset()\n",
    "print(s)\n",
    "a = simple_policy(s)\n",
    "print(env.step(a))"
   ]
  },
  {
   "cell_type": "markdown",
   "metadata": {
    "deletable": false,
    "editable": false,
    "nbgrader": {
     "checksum": "b5e33f6499dd4040071dc62a3e8fccb2",
     "grade": false,
     "grade_id": "cell-0184f4c719afb98c",
     "locked": true,
     "schema_version": 1,
     "solution": false
    }
   },
   "source": [
    "Now implement either the MC prediction algorithm (either first visit or every visit). Hint: you can use `for i in tqdm(range(num_episodes))` to show a progress bar."
   ]
  },
  {
   "cell_type": "code",
   "execution_count": 9,
   "metadata": {
    "deletable": false,
    "nbgrader": {
     "checksum": "a90a42914d0f7ade801bee9a8bd04e19",
     "grade": true,
     "grade_id": "cell-b822e9d13cf1f65e",
     "locked": false,
     "points": 2,
     "schema_version": 1,
     "solution": true
    }
   },
   "outputs": [],
   "source": [
    "from collections import defaultdict\n",
    "\n",
    "def mc_prediction(policy, env, num_episodes, discount_factor=1.0):\n",
    "    \"\"\"\n",
    "    Monte Carlo prediction algorithm. Calculates the value function\n",
    "    for a given policy using sampling.\n",
    "    \n",
    "    Args:\n",
    "        policy: A function that maps an observation to action probabilities.\n",
    "        env: OpenAI gym environment.\n",
    "        num_episodes: Number of episodes to sample.\n",
    "        discount_factor: Gamma discount factor.\n",
    "    \n",
    "    Returns:\n",
    "        A dictionary that maps from state -> value.\n",
    "        The state is a tuple and the value is a float.\n",
    "    \"\"\"\n",
    "\n",
    "    # Keeps track of sum and count of returns for each state\n",
    "    # to calculate an average. We could use an array to save all\n",
    "    # returns (like in the book) but that's memory inefficient.\n",
    "    returns_sum = defaultdict(float)\n",
    "    returns_count = defaultdict(float)\n",
    "    \n",
    "    # The final value function\n",
    "    V = defaultdict(float)\n",
    "    \n",
    "    for i in tqdm(range(num_episodes)):\n",
    "                        \n",
    "        # generate an episode\n",
    "        s = env.reset()\n",
    "        episode = []\n",
    "        done = False\n",
    "        while not done:\n",
    "            a = policy(s)\n",
    "            trans = env.step(a) #next_state, reward, done, _\n",
    "    \n",
    "            # keep track of what happens during this step in the  episode\n",
    "            ep_step = (s, a, trans[1])\n",
    "            episode.append(ep_step)\n",
    "           \n",
    "            # update variables\n",
    "            s = trans[0]\n",
    "            done = trans[2]\n",
    "       \n",
    "        # create list of states\n",
    "        states = [step[0] for step in episode]\n",
    "\n",
    "        # initialize G\n",
    "        G = 0\n",
    "        \n",
    "        # loop through reversed episode\n",
    "        for j, step in enumerate(reversed(episode)): # step has the form: (S_t, A_t, R_t+1)\n",
    "            # get current state\n",
    "            state = step[0]\n",
    "            reward = step[2]\n",
    "            \n",
    "            # update G\n",
    "            G = discount_factor * G + reward             \n",
    "            \n",
    "            # check if state has not been seen before\n",
    "            t = len(episode) - j             \n",
    "            if step[0] not in states[:t-1]:  \n",
    "                \n",
    "                returns_sum[state] += G\n",
    "                returns_count[state] += 1\n",
    "                \n",
    "                # update value function\n",
    "                V[state] = returns_sum[state]/ returns_count[state]\n",
    "    \n",
    "    return V"
   ]
  },
  {
   "cell_type": "code",
   "execution_count": 24,
   "metadata": {},
   "outputs": [
    {
     "name": "stderr",
     "output_type": "stream",
     "text": [
      "100%|██████████| 1000/1000 [00:00<00:00, 17094.14it/s]"
     ]
    },
    {
     "name": "stdout",
     "output_type": "stream",
     "text": [
      "defaultdict(<class 'float'>,\n",
      "            {(12, 1, False): -0.5833333333333334,\n",
      "             (12, 2, False): -0.6923076923076923,\n",
      "             (12, 3, False): -0.375,\n",
      "             (12, 3, True): -1.0,\n",
      "             (12, 4, False): 0.2222222222222222,\n",
      "             (12, 5, False): -0.3,\n",
      "             (12, 6, False): -0.25,\n",
      "             (12, 7, False): -0.8,\n",
      "             (12, 8, False): -1.0,\n",
      "             (12, 8, True): -1.0,\n",
      "             (12, 9, False): -0.8,\n",
      "             (12, 9, True): 1.0,\n",
      "             (12, 10, False): -0.5151515151515151,\n",
      "             (12, 10, True): -1.0,\n",
      "             (13, 1, False): -0.3333333333333333,\n",
      "             (13, 2, False): -0.45454545454545453,\n",
      "             (13, 2, True): -1.0,\n",
      "             (13, 3, False): -0.8333333333333334,\n",
      "             (13, 3, True): -1.0,\n",
      "             (13, 4, False): -0.45454545454545453,\n",
      "             (13, 5, False): -0.6923076923076923,\n",
      "             (13, 5, True): 0.0,\n",
      "             (13, 6, False): -0.5555555555555556,\n",
      "             (13, 7, False): 0.14285714285714285,\n",
      "             (13, 7, True): 1.0,\n",
      "             (13, 8, False): -0.6,\n",
      "             (13, 9, False): -0.5714285714285714,\n",
      "             (13, 9, True): 1.0,\n",
      "             (13, 10, False): -0.6923076923076923,\n",
      "             (13, 10, True): -1.0,\n",
      "             (14, 1, False): -1.0,\n",
      "             (14, 2, False): -0.8181818181818182,\n",
      "             (14, 2, True): 0.0,\n",
      "             (14, 3, False): -0.7333333333333333,\n",
      "             (14, 3, True): 1.0,\n",
      "             (14, 4, False): -0.5555555555555556,\n",
      "             (14, 4, True): -1.0,\n",
      "             (14, 5, False): -0.4,\n",
      "             (14, 5, True): 0.0,\n",
      "             (14, 6, False): -0.4444444444444444,\n",
      "             (14, 7, False): -0.8888888888888888,\n",
      "             (14, 7, True): -0.5,\n",
      "             (14, 8, False): -0.75,\n",
      "             (14, 8, True): -1.0,\n",
      "             (14, 9, False): -0.7857142857142857,\n",
      "             (14, 9, True): 0.0,\n",
      "             (14, 10, False): -0.7380952380952381,\n",
      "             (14, 10, True): -1.0,\n",
      "             (15, 1, False): -1.0,\n",
      "             (15, 1, True): -1.0,\n",
      "             (15, 2, False): -0.6666666666666666,\n",
      "             (15, 3, False): -0.5714285714285714,\n",
      "             (15, 4, False): -0.5555555555555556,\n",
      "             (15, 4, True): -1.0,\n",
      "             (15, 5, False): -0.7142857142857143,\n",
      "             (15, 6, False): -0.4666666666666667,\n",
      "             (15, 6, True): -1.0,\n",
      "             (15, 7, False): -0.5714285714285714,\n",
      "             (15, 8, False): -0.8,\n",
      "             (15, 8, True): -0.3333333333333333,\n",
      "             (15, 9, False): -1.0,\n",
      "             (15, 9, True): 0.0,\n",
      "             (15, 10, False): -0.5609756097560976,\n",
      "             (15, 10, True): -0.4,\n",
      "             (16, 1, False): -1.0,\n",
      "             (16, 1, True): -1.0,\n",
      "             (16, 2, False): -0.6666666666666666,\n",
      "             (16, 2, True): -1.0,\n",
      "             (16, 3, False): -0.8571428571428571,\n",
      "             (16, 3, True): 0.0,\n",
      "             (16, 4, False): -0.8181818181818182,\n",
      "             (16, 4, True): -1.0,\n",
      "             (16, 5, False): -1.0,\n",
      "             (16, 5, True): 0.0,\n",
      "             (16, 6, False): -0.3076923076923077,\n",
      "             (16, 6, True): -1.0,\n",
      "             (16, 7, False): -0.6,\n",
      "             (16, 7, True): 0.0,\n",
      "             (16, 8, False): -0.6363636363636364,\n",
      "             (16, 8, True): 1.0,\n",
      "             (16, 9, False): -0.7647058823529411,\n",
      "             (16, 9, True): -1.0,\n",
      "             (16, 10, False): -0.7105263157894737,\n",
      "             (16, 10, True): -0.3333333333333333,\n",
      "             (17, 1, False): -0.7058823529411765,\n",
      "             (17, 1, True): -1.0,\n",
      "             (17, 2, False): -0.6666666666666666,\n",
      "             (17, 2, True): -1.0,\n",
      "             (17, 3, False): -1.0,\n",
      "             (17, 3, True): -0.3333333333333333,\n",
      "             (17, 4, False): -0.6666666666666666,\n",
      "             (17, 4, True): -1.0,\n",
      "             (17, 5, False): -0.9166666666666666,\n",
      "             (17, 5, True): 0.0,\n",
      "             (17, 6, False): -0.5384615384615384,\n",
      "             (17, 6, True): -1.0,\n",
      "             (17, 7, False): -1.0,\n",
      "             (17, 7, True): 0.3333333333333333,\n",
      "             (17, 8, False): -0.14285714285714285,\n",
      "             (17, 9, False): -0.42857142857142855,\n",
      "             (17, 9, True): 0.0,\n",
      "             (17, 10, False): -0.75,\n",
      "             (17, 10, True): 0.5,\n",
      "             (18, 1, False): -0.8461538461538461,\n",
      "             (18, 1, True): -1.0,\n",
      "             (18, 2, False): -1.0,\n",
      "             (18, 2, True): -1.0,\n",
      "             (18, 3, False): -0.8333333333333334,\n",
      "             (18, 3, True): -1.0,\n",
      "             (18, 4, False): -0.8181818181818182,\n",
      "             (18, 4, True): 1.0,\n",
      "             (18, 5, False): -1.0,\n",
      "             (18, 6, False): -0.5384615384615384,\n",
      "             (18, 6, True): 1.0,\n",
      "             (18, 7, False): -0.8666666666666667,\n",
      "             (18, 7, True): -1.0,\n",
      "             (18, 8, False): -1.0,\n",
      "             (18, 8, True): -1.0,\n",
      "             (18, 9, False): -0.9411764705882353,\n",
      "             (18, 9, True): -0.3333333333333333,\n",
      "             (18, 10, False): -0.6829268292682927,\n",
      "             (18, 10, True): -0.6,\n",
      "             (19, 1, False): -0.7142857142857143,\n",
      "             (19, 1, True): -1.0,\n",
      "             (19, 2, False): -0.5714285714285714,\n",
      "             (19, 2, True): -1.0,\n",
      "             (19, 3, False): -0.6923076923076923,\n",
      "             (19, 3, True): -1.0,\n",
      "             (19, 4, False): -0.45454545454545453,\n",
      "             (19, 4, True): -0.3333333333333333,\n",
      "             (19, 5, False): -0.6,\n",
      "             (19, 5, True): -1.0,\n",
      "             (19, 6, False): -0.7894736842105263,\n",
      "             (19, 6, True): -1.0,\n",
      "             (19, 7, False): -1.0,\n",
      "             (19, 7, True): 1.0,\n",
      "             (19, 8, False): -0.5714285714285714,\n",
      "             (19, 8, True): 0.0,\n",
      "             (19, 9, False): -0.6,\n",
      "             (19, 9, True): -0.3333333333333333,\n",
      "             (19, 10, False): -0.7954545454545454,\n",
      "             (19, 10, True): -0.8,\n",
      "             (20, 1, False): 0.125,\n",
      "             (20, 1, True): 0.3333333333333333,\n",
      "             (20, 2, False): 1.0,\n",
      "             (20, 2, True): -1.0,\n",
      "             (20, 3, False): 0.6666666666666666,\n",
      "             (20, 3, True): 0.0,\n",
      "             (20, 4, False): 0.5833333333333334,\n",
      "             (20, 4, True): 1.0,\n",
      "             (20, 5, False): 0.7,\n",
      "             (20, 5, True): 0.0,\n",
      "             (20, 6, False): 0.7,\n",
      "             (20, 6, True): 1.0,\n",
      "             (20, 7, False): 0.75,\n",
      "             (20, 7, True): 1.0,\n",
      "             (20, 8, False): 0.7272727272727273,\n",
      "             (20, 8, True): 1.0,\n",
      "             (20, 9, False): 0.7692307692307693,\n",
      "             (20, 9, True): 1.0,\n",
      "             (20, 10, False): 0.4406779661016949,\n",
      "             (20, 10, True): 0.3333333333333333,\n",
      "             (21, 1, False): 1.0,\n",
      "             (21, 1, True): 1.0,\n",
      "             (21, 2, False): 1.0,\n",
      "             (21, 2, True): 1.0,\n",
      "             (21, 3, False): 0.8571428571428571,\n",
      "             (21, 3, True): 0.875,\n",
      "             (21, 4, False): 0.8888888888888888,\n",
      "             (21, 4, True): 1.0,\n",
      "             (21, 5, False): 0.8333333333333334,\n",
      "             (21, 5, True): 1.0,\n",
      "             (21, 6, False): 0.8571428571428571,\n",
      "             (21, 6, True): 0.8,\n",
      "             (21, 7, False): 0.875,\n",
      "             (21, 7, True): 0.75,\n",
      "             (21, 8, False): 1.0,\n",
      "             (21, 8, True): 1.0,\n",
      "             (21, 9, False): 0.8888888888888888,\n",
      "             (21, 9, True): 1.0,\n",
      "             (21, 10, False): 0.9375,\n",
      "             (21, 10, True): 0.8125})\n"
     ]
    },
    {
     "name": "stderr",
     "output_type": "stream",
     "text": [
      "\n"
     ]
    }
   ],
   "source": [
    "V = mc_prediction(simple_policy, env, num_episodes=1000)\n",
    "from pprint import pprint\n",
    "pprint(V)"
   ]
  },
  {
   "cell_type": "markdown",
   "metadata": {
    "deletable": false,
    "editable": false,
    "nbgrader": {
     "checksum": "65fb9d8060a4c843e72474169396eb3e",
     "grade": false,
     "grade_id": "cell-9d32f907f180c088",
     "locked": true,
     "schema_version": 1,
     "solution": false
    }
   },
   "source": [
    "Now make *4 plots* like Figure 5.1 in the book. You can either make 3D plots or heatmaps. Make sure that your results look similar to the results in the book. Give your plots appropriate titles, axis labels, etc."
   ]
  },
  {
   "cell_type": "code",
   "execution_count": 8,
   "metadata": {
    "deletable": false,
    "editable": false,
    "nbgrader": {
     "checksum": "8a4eee824f088a6c13ee8c9296af4561",
     "grade": false,
     "grade_id": "cell-cbaf4d6a0e4c00fa",
     "locked": true,
     "schema_version": 1,
     "solution": false
    }
   },
   "outputs": [
    {
     "name": "stderr",
     "output_type": "stream",
     "text": [
      "100%|██████████| 10000/10000 [00:00<00:00, 22419.57it/s]\n",
      "100%|██████████| 500000/500000 [00:20<00:00, 23858.52it/s]"
     ]
    },
    {
     "name": "stdout",
     "output_type": "stream",
     "text": [
      "CPU times: user 21.4 s, sys: 6.37 ms, total: 21.4 s\n",
      "Wall time: 21.4 s\n"
     ]
    },
    {
     "name": "stderr",
     "output_type": "stream",
     "text": [
      "\n"
     ]
    }
   ],
   "source": [
    "%%time\n",
    "# Let's run your code one time\n",
    "V_10k = mc_prediction(simple_policy, env, num_episodes=10000)\n",
    "V_500k = mc_prediction(simple_policy, env, num_episodes=500000)"
   ]
  },
  {
   "cell_type": "code",
   "execution_count": 10,
   "metadata": {
    "deletable": false,
    "nbgrader": {
     "checksum": "84102d69cdad07cf0100d846346b65e6",
     "grade": true,
     "grade_id": "cell-ba046443478aa517",
     "locked": false,
     "points": 2,
     "schema_version": 1,
     "solution": true
    }
   },
   "outputs": [
    {
     "ename": "NameError",
     "evalue": "name 'V_500k' is not defined",
     "output_type": "error",
     "traceback": [
      "\u001b[0;31m---------------------------------------------------------------------------\u001b[0m",
      "\u001b[0;31mNameError\u001b[0m                                 Traceback (most recent call last)",
      "\u001b[0;32m<ipython-input-10-2849dd5df03a>\u001b[0m in \u001b[0;36m<module>\u001b[0;34m()\u001b[0m\n\u001b[1;32m      6\u001b[0m \u001b[0mx\u001b[0m \u001b[0;34m=\u001b[0m \u001b[0;34m[\u001b[0m\u001b[0;34m]\u001b[0m\u001b[0;34m\u001b[0m\u001b[0m\n\u001b[1;32m      7\u001b[0m \u001b[0my\u001b[0m \u001b[0;34m=\u001b[0m \u001b[0;34m[\u001b[0m\u001b[0;34m]\u001b[0m\u001b[0;34m\u001b[0m\u001b[0m\n\u001b[0;32m----> 8\u001b[0;31m \u001b[0;32mfor\u001b[0m \u001b[0mstate\u001b[0m \u001b[0;32min\u001b[0m \u001b[0mV_500k\u001b[0m\u001b[0;34m.\u001b[0m\u001b[0mkeys\u001b[0m\u001b[0;34m(\u001b[0m\u001b[0;34m)\u001b[0m\u001b[0;34m:\u001b[0m\u001b[0;34m\u001b[0m\u001b[0m\n\u001b[0m\u001b[1;32m      9\u001b[0m     \u001b[0mx\u001b[0m\u001b[0;34m.\u001b[0m\u001b[0mappend\u001b[0m\u001b[0;34m(\u001b[0m\u001b[0mstate\u001b[0m\u001b[0;34m[\u001b[0m\u001b[0;36m0\u001b[0m\u001b[0;34m]\u001b[0m\u001b[0;34m)\u001b[0m\u001b[0;34m\u001b[0m\u001b[0m\n\u001b[1;32m     10\u001b[0m     \u001b[0my\u001b[0m\u001b[0;34m.\u001b[0m\u001b[0mappend\u001b[0m\u001b[0;34m(\u001b[0m\u001b[0mstate\u001b[0m\u001b[0;34m[\u001b[0m\u001b[0;36m1\u001b[0m\u001b[0;34m]\u001b[0m\u001b[0;34m)\u001b[0m\u001b[0;34m\u001b[0m\u001b[0m\n",
      "\u001b[0;31mNameError\u001b[0m: name 'V_500k' is not defined"
     ]
    }
   ],
   "source": [
    "import matplotlib.pyplot as plt\n",
    "from matplotlib import cm\n",
    "from mpl_toolkits.mplot3d import axes3d\n",
    "\n",
    "# get all possible dealer sum and player sum values\n",
    "x = []\n",
    "y = []\n",
    "for state in V_500k.keys():\n",
    "    x.append(state[0])\n",
    "    y.append(state[1])\n",
    "\n",
    "\n",
    "# create meshgrid of all possible dealer sum and player sum combination states\n",
    "x_range = np.arange(min(x), max(x)+1)\n",
    "y_range = np.arange(min(y), max(y)+1)\n",
    "player_sum, dealer_sum = np.meshgrid(x_range, y_range)\n",
    "\n",
    "print(player_sum, dealer_sum)\n",
    "\n",
    "# get all action values for usable and non-usable aces\n",
    "ace_value = np.zeros_like(player_sum,dtype=np.float64)\n",
    "no_ace_value = np.zeros_like(player_sum,dtype=np.float64)\n",
    "\n",
    "# loop through possible states and save action value\n",
    "for i,x in enumerate(x_range):\n",
    "    for j,y in enumerate(y_range):        \n",
    "        st_ace = (x,y,True)\n",
    "        ace_value[j,i] = V_500k[st_ace]\n",
    "        \n",
    "        st_no_ace = (x,y,False)        \n",
    "        no_ace_value[j,i] = V_500k[st_no_ace]\n",
    "\n",
    "# plot ace action values\n",
    "fig = plt.figure()\n",
    "ax = fig.gca(projection='3d')\n",
    "ax.plot_surface(dealer_sum, player_sum, ace_value, cmap=cm.coolwarm)\n",
    "plt.xlabel('Dealer showing')\n",
    "plt.ylabel('Player sum')\n",
    "plt.title('Useable ace: 3D surface plot')\n",
    "\n",
    "# plot ace action values in a heatmap\n",
    "fig = plt.figure()\n",
    "im = plt.pcolor(y_range, x_range, ace_value.T, cmap=cm.coolwarm, vmin=-1, vmax=1)\n",
    "fig.colorbar(im)\n",
    "plt.title('Useable ace: heatmap')\n",
    "plt.ylabel('Player sum')\n",
    "plt.xlabel('Dealer showing')\n",
    "\n",
    "# plot no ace action values\n",
    "fig = plt.figure()\n",
    "ax = fig.gca(projection='3d')\n",
    "ax.plot_surface(dealer_sum, player_sum, no_ace_value, cmap=cm.coolwarm)\n",
    "plt.xlabel('Dealer showing')\n",
    "plt.ylabel('Player sum')\n",
    "plt.title('No useable ace: 3D surface plot')\n",
    "\n",
    "# plot no ace action values in a heatmap\n",
    "fig = plt.figure()\n",
    "im = plt.pcolor(y_range, x_range, no_ace_value.T, cmap=cm.coolwarm, vmin=-1, vmax=1)\n",
    "fig.colorbar(im)\n",
    "plt.title('No useable ace: heatmap')\n",
    "plt.ylabel('Player sum')\n",
    "plt.xlabel('Dealer showing')\n",
    "plt.show()"
   ]
  },
  {
   "cell_type": "markdown",
   "metadata": {},
   "source": [
    "Unfortunately, we found that the movable 3d plot using \" %matplotlib notebook \" would sometimes produce a white page as output."
   ]
  },
  {
   "cell_type": "markdown",
   "metadata": {
    "deletable": false,
    "editable": false,
    "nbgrader": {
     "checksum": "a65fdcbe1c3c2a4f23b847a8dae03570",
     "grade": false,
     "grade_id": "cell-a5cc039e3d648855",
     "locked": true,
     "schema_version": 1,
     "solution": false
    }
   },
   "source": [
    "## 5. Monte Carlo control with $\\epsilon$-greedy policy (5 points)\n",
    "Now we have a method to evaluate state-values given a policy. Take a moment to think whether we can use the value function to find a better policy? Assuming we do not know the dynamics of the environment, why is this not possible?\n",
    "\n",
    "We want a policy that selects _actions_ with maximum value, e.g. is _greedy_ with respect to the _action-value_ (or Q-value) function $Q(s,a)$. We need to keep exploring, so with probability $\\epsilon$ we will take a random action. First, lets implement a function `make_epsilon_greedy_policy` that takes the Q-value function and returns an $\\epsilon$-greedy policy."
   ]
  },
  {
   "cell_type": "code",
   "execution_count": 11,
   "metadata": {
    "deletable": false,
    "nbgrader": {
     "checksum": "ecd6cfa62fdf8463d6a97a865de84140",
     "grade": true,
     "grade_id": "cell-78eff3f4ca0f0e09",
     "locked": false,
     "points": 1,
     "schema_version": 1,
     "solution": true
    }
   },
   "outputs": [],
   "source": [
    "def make_epsilon_greedy_policy(Q, epsilon, nA):\n",
    "    \"\"\"\n",
    "    Creates an epsilon-greedy policy based on a given Q-function and epsilon.\n",
    "    \n",
    "    Args:\n",
    "        Q: A dictionary that maps from state -> action-values.\n",
    "            Each value is a numpy array of length nA (see below)\n",
    "        epsilon: The probability to select a random action . float between 0 and 1.\n",
    "        nA: Number of actions in the environment.\n",
    "    \n",
    "    Returns:\n",
    "        A function that takes the observation as an argument and returns\n",
    "        the probabilities for each action in the form of a numpy array of length nA.\n",
    "    \n",
    "    \"\"\"\n",
    "    def policy_fn(observation):\n",
    "        # initiate policy with epsilon probability over all random choices \n",
    "        #(can the random action also be the chosen action?)\n",
    "        A = np.array(([epsilon/nA for i in range(nA)]), dtype=float) \n",
    "        best_action = np.argmax(Q[observation])\n",
    "        A[best_action] += 1 - epsilon\n",
    "        return A\n",
    "    return policy_fn"
   ]
  },
  {
   "cell_type": "code",
   "execution_count": 12,
   "metadata": {
    "deletable": false,
    "nbgrader": {
     "checksum": "12a7f4ab3c649a1d768ce80d4573cf28",
     "grade": true,
     "grade_id": "cell-2fc0baa87f31ab98",
     "locked": false,
     "points": 2,
     "schema_version": 1,
     "solution": true
    }
   },
   "outputs": [
    {
     "name": "stderr",
     "output_type": "stream",
     "text": [
      "100%|██████████| 10000/10000 [00:00<00:00, 10330.63it/s]\n"
     ]
    }
   ],
   "source": [
    "def mc_control_epsilon_greedy(env, num_episodes, discount_factor=1.0, epsilon=0.1):\n",
    "    \"\"\"\n",
    "    Monte Carlo Control using Epsilon-Greedy policies.\n",
    "    Finds an optimal epsilon-greedy policy.\n",
    "    \n",
    "    Args:\n",
    "        env: OpenAI gym environment.\n",
    "        num_episodes: Number of episodes to sample.\n",
    "        discount_factor: Gamma discount factor.\n",
    "        epsilon: Chance the sample a random action. Float betwen 0 and 1.\n",
    "    \n",
    "    Returns:\n",
    "        A tuple (Q, policy).\n",
    "        Q is a dictionary mapping state -> action values.\n",
    "        policy is a function that takes an observation as an argument and returns\n",
    "        action probabilities\n",
    "    \"\"\"\n",
    "    \n",
    "    # Again, keep track of counts for efficiency\n",
    "    # returns_sum, returns_count and Q are \n",
    "    # nested dictionaries that map state -> (action -> action-value).\n",
    "    # We could also use tuples (s, a) as keys in a 1d dictionary, but this\n",
    "    # way Q is in the format that works with make_epsilon_greedy_policy\n",
    "    \n",
    "    returns_sum = defaultdict(lambda: np.zeros(env.action_space.n))\n",
    "    returns_count = defaultdict(lambda: np.zeros(env.action_space.n, dtype=int))\n",
    "    \n",
    "    # The final action-value function.\n",
    "    Q = defaultdict(lambda: np.zeros(env.action_space.n))\n",
    "    \n",
    "    # The policy we're following\n",
    "    policy = make_epsilon_greedy_policy(Q, epsilon, env.action_space.n)\n",
    "    \n",
    "    for i in tqdm(range(num_episodes)):\n",
    "\n",
    "        # generate an episode\n",
    "        s = env.reset()\n",
    "        episode = []\n",
    "        done = False\n",
    "        while not done:\n",
    "            # get action probabilities\n",
    "            A = policy(s)\n",
    "\n",
    "            # choose action according to policy\n",
    "            a = np.random.choice(range(len(A)), p=A)\n",
    "\n",
    "            # perform action in environment\n",
    "            trans = env.step(a) #next_state, reward, done, _\n",
    "\n",
    "            # keep track of what happens during this step in the  episode\n",
    "            ep_step = (s, a, trans[1])\n",
    "            episode.append(ep_step)\n",
    "\n",
    "            # update variables\n",
    "            s = trans[0]\n",
    "            done = trans[2]\n",
    "\n",
    "        # create list of states\n",
    "        state_actions = [(step[0], step[1]) for step in episode]\n",
    "        \n",
    "        G = 0\n",
    "        # reverse loop through episode\n",
    "        for j, step in enumerate(reversed(episode)): # step has the form: (S_t, A_t, R_t+1)\n",
    "            # get current state, action and reward\n",
    "            state = step[0]\n",
    "            action = step[1]\n",
    "            reward = step[2]\n",
    "            \n",
    "            # get current state action pair\n",
    "            s_a = (step[0], step[1])\n",
    "            \n",
    "            # calculate G\n",
    "            G = discount_factor * G + reward \n",
    "            \n",
    "            # check if state action pair is not seen yet\n",
    "            t = len(episode) - j            \n",
    "            if s_a not in state_actions[:t-1]: \n",
    "                                \n",
    "                returns_sum[state][action] += G\n",
    "                returns_count[state][action] += 1\n",
    "                \n",
    "                # update Q value\n",
    "                Q[state][action] = returns_sum[state][action]/ returns_count[state][action]\n",
    "    \n",
    "    return Q, policy\n",
    "\n",
    "# Test it quickly\n",
    "Q, policy = mc_control_epsilon_greedy(env, num_episodes=10000, epsilon=0.1)"
   ]
  },
  {
   "cell_type": "code",
   "execution_count": 29,
   "metadata": {
    "deletable": false,
    "editable": false,
    "nbgrader": {
     "checksum": "9ea50e12589ce430405fa2e92ee0c108",
     "grade": false,
     "grade_id": "cell-e6170d8979ca2a9c",
     "locked": true,
     "schema_version": 1,
     "solution": false
    }
   },
   "outputs": [
    {
     "name": "stderr",
     "output_type": "stream",
     "text": [
      "100%|██████████| 500000/500000 [00:48<00:00, 10214.52it/s]"
     ]
    },
    {
     "name": "stdout",
     "output_type": "stream",
     "text": [
      "CPU times: user 49 s, sys: 27.3 ms, total: 49 s\n",
      "Wall time: 49 s\n"
     ]
    },
    {
     "name": "stderr",
     "output_type": "stream",
     "text": [
      "\n"
     ]
    }
   ],
   "source": [
    "%%time\n",
    "Q, policy = mc_control_epsilon_greedy(env, num_episodes=500000, epsilon=0.1)"
   ]
  },
  {
   "cell_type": "markdown",
   "metadata": {
    "deletable": false,
    "editable": false,
    "nbgrader": {
     "checksum": "94d3f0aecbe1b5ebfed94e7b1379f617",
     "grade": false,
     "grade_id": "cell-449e36eb98369942",
     "locked": true,
     "schema_version": 1,
     "solution": false
    }
   },
   "source": [
    "How can you obtain the (V-)value function from the Q-value function? Plot the (V-)value function that is the result of 500K iterations. Additionally, visualize the greedy policy similar to Figure 5.2 in the book. Use a white square for hitting, black for sticking."
   ]
  },
  {
   "cell_type": "code",
   "execution_count": 30,
   "metadata": {
    "deletable": false,
    "nbgrader": {
     "checksum": "ef932ff88d976ffefc0338822d7d2af9",
     "grade": true,
     "grade_id": "cell-7d797248a3b132f5",
     "locked": false,
     "points": 2,
     "schema_version": 1,
     "solution": true
    }
   },
   "outputs": [
    {
     "data": {
      "image/png": "[encoded data removed]",
      "text/plain": [
       "<Figure size 432x288 with 1 Axes>"
      ]
     },
     "metadata": {
      "needs_background": "light"
     },
     "output_type": "display_data"
    },
    {
     "data": {
      "image/png": "[encoded data removed]",
      "text/plain": [
       "<Figure size 432x288 with 2 Axes>"
      ]
     },
     "metadata": {
      "needs_background": "light"
     },
     "output_type": "display_data"
    },
    {
     "data": {
      "image/png": "[encoded data removed]",
      "text/plain": [
       "<Figure size 432x288 with 1 Axes>"
      ]
     },
     "metadata": {
      "needs_background": "light"
     },
     "output_type": "display_data"
    },
    {
     "data": {
      "image/png": "[encoded data removed]",
      "text/plain": [
       "<Figure size 432x288 with 2 Axes>"
      ]
     },
     "metadata": {
      "needs_background": "light"
     },
     "output_type": "display_data"
    },
    {
     "data": {
      "image/png": "[encoded data removed]",
      "text/plain": [
       "<Figure size 432x288 with 1 Axes>"
      ]
     },
     "metadata": {
      "needs_background": "light"
     },
     "output_type": "display_data"
    },
    {
     "data": {
      "image/png": "[encoded data removed]",
      "text/plain": [
       "<Figure size 432x288 with 1 Axes>"
      ]
     },
     "metadata": {
      "needs_background": "light"
     },
     "output_type": "display_data"
    }
   ],
   "source": [
    "##### Plot value function #####\n",
    "\n",
    "# get all possible dealer sum and player sum values\n",
    "x = []\n",
    "y = []\n",
    "aces = []\n",
    "for state in Q.keys():\n",
    "    x.append(state[0])\n",
    "    y.append(state[1])\n",
    "    aces.append(state[2])\n",
    "\n",
    "# create meshgrid of all possible dealer sum and player sum combination states\n",
    "x_range = np.arange(min(x), max(x)+1)\n",
    "y_range = np.arange(min(y), max(y)+1)\n",
    "player_sum, dealer_sum = np.meshgrid(x_range, y_range)\n",
    "\n",
    "# get all action values for usable and non-usable aces\n",
    "ace_value = np.zeros_like(player_sum,dtype=np.float64)\n",
    "no_ace_value = np.zeros_like(player_sum,dtype=np.float64)\n",
    "\n",
    "# loop through possible states and save action value\n",
    "for i,x in enumerate(x_range):\n",
    "    for j,y in enumerate(y_range):        \n",
    "        st_ace = (x,y,True)\n",
    "        ace_value[j,i] = max(Q[st_ace])\n",
    "        \n",
    "        st_no_ace = (x,y,False)        \n",
    "        no_ace_value[j,i] = max(Q[st_no_ace])\n",
    "\n",
    "        \n",
    "# Plot ace\n",
    "fig = plt.figure()\n",
    "ax = fig.gca(projection='3d')\n",
    "ax.plot_surface(dealer_sum, player_sum, ace_value, cmap=cm.coolwarm)\n",
    "plt.xlabel('Dealer showing')\n",
    "plt.ylabel('Player sum')\n",
    "plt.title('Useable ace')\n",
    "\n",
    "# plot ace action values in a heatmap\n",
    "fig = plt.figure()\n",
    "im = plt.pcolor(y_range, x_range, ace_value.T, cmap=cm.coolwarm)\n",
    "fig.colorbar(im)\n",
    "plt.title('Useable ace: heatmap')\n",
    "plt.ylabel('Player sum')\n",
    "plt.xlabel('Dealer showing')\n",
    "\n",
    "# plot no ace action values\n",
    "fig = plt.figure()\n",
    "ax = fig.gca(projection='3d')\n",
    "ax.plot_surface(dealer_sum, player_sum, no_ace_value, cmap=cm.coolwarm)\n",
    "plt.xlabel('Dealer showing')\n",
    "plt.ylabel('Player sum')\n",
    "plt.title('No useable ace')\n",
    "\n",
    "# plot no ace action values in a heatmap\n",
    "fig = plt.figure()\n",
    "im = plt.pcolor(y_range, x_range, no_ace_value.T, cmap=cm.coolwarm)\n",
    "fig.colorbar(im)\n",
    "plt.title('No useable ace: heatmap')\n",
    "plt.ylabel('Player sum')\n",
    "plt.xlabel('Dealer showing')\n",
    "plt.show()\n",
    "\n",
    "##### Visualize greedy policy #####\n",
    "\n",
    "for i,x in enumerate(x_range):\n",
    "    for j,y in enumerate(y_range):        \n",
    "        st_ace = (x,y,True)\n",
    "        ace_value[j,i] = np.argmax(Q[st_ace])\n",
    "        \n",
    "        st_no_ace = (x,y,False)        \n",
    "        no_ace_value[j,i] = np.argmax(Q[st_no_ace])\n",
    "\n",
    "# show policy with useable ace\n",
    "fig = plt.figure()\n",
    "plt.pcolor(y_range, x_range, 1-ace_value.T, cmap=cm.Greys)\n",
    "plt.title('Policy with useable ace')\n",
    "plt.ylabel('Player sum')\n",
    "plt.xlabel('Dealer showing')\n",
    "\n",
    "# show policy without useable ace\n",
    "fig = plt.figure()\n",
    "plt.pcolor(y_range, x_range, 1-no_ace_value.T, cmap=cm.Greys)\n",
    "plt.title('Policy without useable ace')\n",
    "plt.ylabel('Player sum')\n",
    "plt.xlabel('Dealer showing')\n",
    "\n",
    "plt.show()"
   ]
  },
  {
   "cell_type": "markdown",
   "metadata": {
    "deletable": false,
    "editable": false,
    "nbgrader": {
     "checksum": "1fd18efb629e87209d1db4236553de73",
     "grade": false,
     "grade_id": "cell-eecfd6fb626abfae",
     "locked": true,
     "schema_version": 1,
     "solution": false
    }
   },
   "source": [
    "## 6. Temporal Difference (TD) learning (8 points)\n",
    "Mention one advantage and one disadvantage of Monte Carlo methods. Mention an example where you would prefer to use TD learning."
   ]
  },
  {
   "cell_type": "markdown",
   "metadata": {
    "deletable": false,
    "nbgrader": {
     "checksum": "4b81bcd51404511164971c110ffa838f",
     "grade": true,
     "grade_id": "cell-cac4639044ba9074",
     "locked": false,
     "points": 1,
     "schema_version": 1,
     "solution": true
    }
   },
   "source": [
    "**OUR ANSWER**\n",
    "\n",
    "*Advantage*: They do not need a model of the environment, since they can learn optimal behaviour directly from interaction with the environment.\n",
    "\n",
    "*Disadvantage*: In the case of long trajectories to the terminal state, Monte Carlo will be inefficient.\n",
    "\n",
    "An example of when to use TD learning is when the environment is continous and the terminal state is not known or very far away. The reason for this is that TD learning uses bootstrapping and thus it can update before reaching the terminal state."
   ]
  },
  {
   "cell_type": "markdown",
   "metadata": {
    "deletable": false,
    "editable": false,
    "nbgrader": {
     "checksum": "e61bd7837d3b364741b4c3aa43597a10",
     "grade": false,
     "grade_id": "cell-21ca38ffcbe1c3ca",
     "locked": true,
     "schema_version": 1,
     "solution": false
    }
   },
   "source": [
    "For the TD algorithms, we will skip the prediction algorithm and go straight for the control setting where we optimize the policy that we are using. In other words: implement SARSA. To keep it dynamic, we will use the windy gridworld environment (Example 6.5)."
   ]
  },
  {
   "cell_type": "code",
   "execution_count": 31,
   "metadata": {
    "deletable": false,
    "editable": false,
    "nbgrader": {
     "checksum": "609d0f1e1ef6ad89c8dcd96dd43aa798",
     "grade": false,
     "grade_id": "cell-c046fd0377cee46d",
     "locked": true,
     "schema_version": 1,
     "solution": false
    }
   },
   "outputs": [],
   "source": [
    "from windy_gridworld import WindyGridworldEnv\n",
    "env = WindyGridworldEnv()"
   ]
  },
  {
   "cell_type": "code",
   "execution_count": 32,
   "metadata": {},
   "outputs": [],
   "source": [
    "WindyGridworldEnv??"
   ]
  },
  {
   "cell_type": "code",
   "execution_count": 33,
   "metadata": {
    "deletable": false,
    "nbgrader": {
     "checksum": "42b89f13768d1cd3b41fb52cddef0d97",
     "grade": true,
     "grade_id": "cell-6b662771f3762bb1",
     "locked": false,
     "points": 2,
     "schema_version": 1,
     "solution": true
    }
   },
   "outputs": [
    {
     "name": "stderr",
     "output_type": "stream",
     "text": [
      "100%|██████████| 1000/1000 [00:01<00:00, 858.73it/s]\n"
     ]
    },
    {
     "data": {
      "image/png": "[encoded data removed]",
      "text/plain": [
       "<Figure size 432x288 with 1 Axes>"
      ]
     },
     "metadata": {
      "needs_background": "light"
     },
     "output_type": "display_data"
    },
    {
     "data": {
      "image/png": "[encoded data removed]",
      "text/plain": [
       "<Figure size 432x288 with 1 Axes>"
      ]
     },
     "metadata": {
      "needs_background": "light"
     },
     "output_type": "display_data"
    }
   ],
   "source": [
    "def sarsa(env, num_episodes, discount_factor=1.0, alpha=0.5, epsilon=0.1, Q=None):\n",
    "    \"\"\"\n",
    "    SARSA algorithm: On-policy TD control. Finds the optimal epsilon-greedy policy.\n",
    "    \n",
    "    Args:\n",
    "        env: OpenAI environment.\n",
    "        num_episodes: Number of episodes to run for.\n",
    "        discount_factor: Gamma discount factor.\n",
    "        alpha: TD learning rate.\n",
    "        epsilon: Probability to sample a random action. Float between 0 and 1.\n",
    "        Q: hot-start the algorithm with a Q value function (optional)\n",
    "    \n",
    "    Returns:\n",
    "        A tuple (Q, stats).\n",
    "        Q is the optimal action-value function, a dictionary mapping state -> action values.\n",
    "        stats is a list of tuples giving the episode lengths and rewards.\n",
    "    \"\"\"\n",
    "    \n",
    "    # The final action-value function.\n",
    "    # A nested dictionary that maps state -> (action -> action-value).\n",
    "    if Q is None:\n",
    "        Q = defaultdict(lambda: np.zeros(env.action_space.n))\n",
    "    \n",
    "    # Keeps track of useful statistics\n",
    "    stats = []\n",
    "    \n",
    "    # The policy we're following\n",
    "    policy = make_epsilon_greedy_policy(Q, epsilon, env.action_space.n)\n",
    "    \n",
    "    for i_episode in tqdm(range(num_episodes)):\n",
    "        i = 0\n",
    "        R = 0\n",
    "        \n",
    "        # initialize S\n",
    "        state = env.reset()\n",
    "       \n",
    "        # choose action according to policy\n",
    "        A = policy(state)\n",
    "        action = np.random.choice(range(env.action_space.n), p=A)\n",
    "        \n",
    "        # run episode until terminal state\n",
    "        done = False\n",
    "        while not done:   \n",
    "                \n",
    "            # take action, observe reward\n",
    "            state_prime, reward, done, _ = env.step(action)\n",
    "                \n",
    "            # choose action according to policy\n",
    "            A = policy(state_prime)\n",
    "            action_prime = np.random.choice(range(env.action_space.n), p=A)\n",
    "            \n",
    "            # update Q-value\n",
    "            delta = (discount_factor* Q[state_prime][action_prime]) - Q[state][action]\n",
    "            Q[state][action] = Q[state][action] + alpha*(reward + delta)\n",
    "            \n",
    "            # update variables\n",
    "            state = state_prime\n",
    "            action = action_prime\n",
    "            \n",
    "            # keep track of episode length\n",
    "            i += 1\n",
    "            R += reward\n",
    "        \n",
    "        stats.append((i, R))\n",
    "    episode_lengths, episode_returns = zip(*stats)\n",
    "    return Q, (episode_lengths, episode_returns)\n",
    "\n",
    "Q_sarsa, (episode_lengths_sarsa, episode_returns_sarsa) = sarsa(env, 1000)\n",
    "\n",
    "# We will help you with plotting this time\n",
    "plt.figure()\n",
    "plt.plot(episode_lengths_sarsa)\n",
    "plt.title('Episode lengths SARSA')\n",
    "plt.show()\n",
    "\n",
    "plt.figure()\n",
    "plt.plot(episode_returns_sarsa)\n",
    "plt.yscale('symlog')\n",
    "plt.title('Episode returns SARSA')\n",
    "plt.show()"
   ]
  },
  {
   "cell_type": "markdown",
   "metadata": {
    "deletable": false,
    "editable": false,
    "nbgrader": {
     "checksum": "6d2e2b63d4428913ca84b62fb4384ef9",
     "grade": false,
     "grade_id": "cell-0eaf4b925ab3ea34",
     "locked": true,
     "schema_version": 1,
     "solution": false
    }
   },
   "source": [
    "Since we might not be interested in falling off the cliff all the time, we can find another person to do this 'exploration' for us (in the name of science). Still, we would like to learn ourselfs from this persons policy, which is where we arrive at _off-policy_ learning. In the simplest variant, we learn our own value by bootstrapping based on the action value corresponding to the best action we could take, while the exploration policy actual follows the $\\epsilon$-greedy strategy. This is known as Q-learning."
   ]
  },
  {
   "cell_type": "code",
   "execution_count": 34,
   "metadata": {
    "deletable": false,
    "nbgrader": {
     "checksum": "954556134388a34f8d4b9a07834180c5",
     "grade": true,
     "grade_id": "cell-a87637d2e582fec0",
     "locked": false,
     "points": 1,
     "schema_version": 1,
     "solution": true
    }
   },
   "outputs": [
    {
     "name": "stderr",
     "output_type": "stream",
     "text": [
      "100%|██████████| 1000/1000 [00:01<00:00, 826.58it/s]\n"
     ]
    },
    {
     "data": {
      "image/png": "[encoded data removed]",
      "text/plain": [
       "<Figure size 432x288 with 1 Axes>"
      ]
     },
     "metadata": {
      "needs_background": "light"
     },
     "output_type": "display_data"
    },
    {
     "data": {
      "image/png": "[encoded data removed]",
      "text/plain": [
       "<Figure size 432x288 with 1 Axes>"
      ]
     },
     "metadata": {
      "needs_background": "light"
     },
     "output_type": "display_data"
    }
   ],
   "source": [
    "def q_learning(env, num_episodes, discount_factor=1.0, alpha=0.5, epsilon=0.1, Q=None):\n",
    "    \"\"\"\n",
    "    Q-Learning algorithm: Off-policy TD control. Finds the optimal greedy policy\n",
    "    while following an epsilon-greedy policy\n",
    "    \n",
    "    \n",
    "    Args:\n",
    "        env: OpenAI environment.\n",
    "        num_episodes: Number of episodes to run for.\n",
    "        discount_factor: Gamma discount factor.\n",
    "        alpha: TD learning rate.\n",
    "        epsilon: Probability to sample a random action. Float between 0 and 1.\n",
    "        Q: hot-start the algorithm with a Q value function (optional)\n",
    "    \n",
    "    Returns:\n",
    "        A tuple (Q, stats).\n",
    "        Q is the optimal action-value function, a dictionary mapping state -> action values.\n",
    "        stats is a list of tuples giving the episode lengths and rewards.\n",
    "    \"\"\"\n",
    "    \n",
    "    # The final action-value function.\n",
    "    # A nested dictionary that maps state -> (action -> action-value).\n",
    "    if Q is None:\n",
    "        Q = defaultdict(lambda: np.zeros(env.action_space.n))\n",
    "    \n",
    "    # Keeps track of useful statistics\n",
    "    stats = []\n",
    "    \n",
    "    # The policy we're following\n",
    "    policy = make_epsilon_greedy_policy(Q, epsilon, env.action_space.n)\n",
    "    \n",
    "    for i_episode in tqdm(range(num_episodes)):\n",
    "        i = 0\n",
    "        R = 0\n",
    "        \n",
    "        # initialize S\n",
    "        state = env.reset()\n",
    "        \n",
    "        # choose action according to policy\n",
    "        A = policy(state)\n",
    "        action = np.random.choice(range(env.action_space.n), p=A)\n",
    "        \n",
    "        # loop for each step in episode\n",
    "        done = False\n",
    "        while not done:  \n",
    "               \n",
    "            # take action, observe reward\n",
    "            state_prime, reward, done, _ = env.step(action)\n",
    "            \n",
    "            # choose action based on policy\n",
    "            A = policy(state_prime)\n",
    "            action_prime = np.random.choice(range(env.action_space.n), p=A)\n",
    "            \n",
    "            # update Q-value\n",
    "            delta = (discount_factor* max(Q[state_prime])) - Q[state][action]\n",
    "            Q[state][action] = Q[state][action] + alpha*(reward + delta)\n",
    "            \n",
    "            # update variables\n",
    "            state = state_prime\n",
    "            action = action_prime\n",
    "            \n",
    "            # keep track of episode length\n",
    "            i += 1\n",
    "            R += reward\n",
    "        \n",
    "        stats.append((i, R))\n",
    "    episode_lengths, episode_returns = zip(*stats)\n",
    "    return Q, (episode_lengths, episode_returns)\n",
    "\n",
    "Q_q_learning, (episode_lengths_q_learning, episode_returns_q_learning) = q_learning(env, 1000)\n",
    "\n",
    "# We will help you with plotting this time\n",
    "plt.figure()\n",
    "plt.plot(episode_lengths_q_learning)\n",
    "plt.title('Episode lengths Q-learning')\n",
    "plt.show()\n",
    "\n",
    "plt.figure()\n",
    "plt.plot(episode_returns_q_learning)\n",
    "plt.yscale('symlog')\n",
    "plt.title('Episode returns Q-learning')\n",
    "plt.show()\n"
   ]
  },
  {
   "cell_type": "markdown",
   "metadata": {
    "deletable": false,
    "editable": false,
    "nbgrader": {
     "checksum": "829728d6b5eea5b47885e984a7faa416",
     "grade": false,
     "grade_id": "cell-9f1fcee44ba712c2",
     "locked": true,
     "schema_version": 1,
     "solution": false
    }
   },
   "source": [
    "Now compare the episode returns while learning for Q-learning and Sarsa (maybe run some more iterations?), by plotting the returns for both algorithms in a single plot, like in the book, Example 6.6. In order to be able to compare them, you may want to zoom in on the y-axis and smooth the returns (e.g. plotting the $n$ episode average instead). Which algorithm achieves higher return during learning? How does this compare to Example 6.6 from the book? Try to explain your observations."
   ]
  },
  {
   "cell_type": "code",
   "execution_count": 35,
   "metadata": {
    "deletable": false,
    "nbgrader": {
     "checksum": "3c1a110fe85c38220afed145a8cf09bc",
     "grade": true,
     "grade_id": "cell-69ed62a52a44dd78",
     "locked": false,
     "points": 1,
     "schema_version": 1,
     "solution": true
    }
   },
   "outputs": [
    {
     "data": {
      "image/png": "[encoded data removed]",
      "text/plain": [
       "<Figure size 432x288 with 1 Axes>"
      ]
     },
     "metadata": {
      "needs_background": "light"
     },
     "output_type": "display_data"
    }
   ],
   "source": [
    "# create filter\n",
    "n = 100\n",
    "filt = [1/n for i in range(n)]\n",
    "\n",
    "# convolve the lines \n",
    "avg_returns_sarsa = np.convolve(episode_returns_sarsa, filt, 'valid')\n",
    "avg_returns_q_learning = np.convolve(episode_returns_q_learning, filt, 'valid')\n",
    "\n",
    "# show the difference between SARSA and Q-learning\n",
    "plt.figure()\n",
    "plt.plot(avg_returns_sarsa, label='SARSA')\n",
    "plt.plot(avg_returns_q_learning, label='Q-learning')\n",
    "\n",
    "plt.legend()\n",
    "plt.title('Episode returns for both SARSA and Q-learning')\n",
    "plt.xlabel('Number of episodes')\n",
    "plt.ylabel('Return')\n",
    "plt.show()"
   ]
  },
  {
   "cell_type": "markdown",
   "metadata": {
    "deletable": false,
    "nbgrader": {
     "checksum": "a3357293c326223f2a02cae0f38ca24a",
     "grade": true,
     "grade_id": "cell-7acf9de8c94a171f",
     "locked": false,
     "points": 1,
     "schema_version": 1,
     "solution": true
    }
   },
   "source": [
    "**OUR ANSWER**\n",
    "\n",
    "Q-learning achieves higher average return during learning. This is in contrast with example 6.6 from the book, where SARSA outperforms Q-learning. The reason for this is the cliff found in example 6.6. Q-learning will always update its policy according to the greedy action, meaning it will take the closest path towards the goal no matter the risk. The risk being a reward of -100 in example 6.6. SARSA will update its policy according to the $\\epsilon$-greedy action, meaning it will take risk into account and look for a more \"safer\" path. This causes Q-learning to perform worse during training, since it has a high risk of falling of the cliff and receiving a reward of -100, while SARSA will not fall into the cliff during training due to the more \"safer\" path.\n",
    "\n",
    "In this problem, there is no cliff, so there is no severe punishment for ignoring exploration in the policy. SARSA updates its policy based on exploration. Unlike in the previous example, there is no benefit in straying away from the one optimal path in this problem, causing SARSA to perform worse. Q-learning does not update based on exploration and therefore performs better."
   ]
  },
  {
   "cell_type": "markdown",
   "metadata": {
    "deletable": false,
    "editable": false,
    "nbgrader": {
     "checksum": "f2f954f745662334010f6fb0fcfd9896",
     "grade": false,
     "grade_id": "cell-316d3cfd35d55387",
     "locked": true,
     "schema_version": 1,
     "solution": false
    }
   },
   "source": [
    "After we have learned the policy, we do not care about exploration any more and we may switch to a deterministic (greedy) policy instead. If we evaluate this for both Sarsa and Q-learning (actually, for Q-learning the learned policy is already deterministic), which policy would you expect to perform better? Why?"
   ]
  },
  {
   "cell_type": "markdown",
   "metadata": {
    "deletable": false,
    "nbgrader": {
     "checksum": "011f8038ac100bfdc5e40b78c1bdc2f8",
     "grade": true,
     "grade_id": "cell-ea5058e6f352d717",
     "locked": false,
     "points": 1,
     "schema_version": 1,
     "solution": true
    }
   },
   "source": [
    "**OUR ANSWER**\n",
    "\n",
    "Q-learning will perform better. Since both the policy and the environment are deterministic, there will only be one optimal path. During training Q-learning learns the policy that traverses this optimal path only, while SARSA updates its policy on exploration (straying away from this optimal path) as well."
   ]
  },
  {
   "cell_type": "markdown",
   "metadata": {
    "deletable": false,
    "editable": false,
    "nbgrader": {
     "checksum": "57ab54058d433e24421d1e1224a9bc87",
     "grade": false,
     "grade_id": "cell-8bcc6f5839a36860",
     "locked": true,
     "schema_version": 1,
     "solution": false
    }
   },
   "source": [
    "Please run the experiments to test your hypothesis (print or plot your results). How many runs do you need to evaluate the policy? Note: without learning, the order of the episodes is not relevant so a normal `plt.plot` may not be the most appropriate choice."
   ]
  },
  {
   "cell_type": "code",
   "execution_count": 36,
   "metadata": {
    "deletable": false,
    "nbgrader": {
     "checksum": "149c39efef43f1807d2b06e6bc50bf95",
     "grade": true,
     "grade_id": "cell-55f9d1767bb7c011",
     "locked": false,
     "points": 1,
     "schema_version": 1,
     "solution": true
    }
   },
   "outputs": [
    {
     "name": "stderr",
     "output_type": "stream",
     "text": [
      "100%|██████████| 200/200 [00:00<00:00, 455.45it/s]\n",
      "100%|██████████| 200/200 [00:00<00:00, 487.44it/s]\n",
      "100%|██████████| 200/200 [00:00<00:00, 440.14it/s]\n",
      "100%|██████████| 200/200 [00:00<00:00, 485.09it/s]\n",
      "100%|██████████| 200/200 [00:00<00:00, 497.10it/s]\n",
      "100%|██████████| 200/200 [00:00<00:00, 493.02it/s]\n",
      "100%|██████████| 200/200 [00:00<00:00, 461.66it/s]\n",
      "100%|██████████| 200/200 [00:00<00:00, 499.44it/s]\n",
      "100%|██████████| 200/200 [00:00<00:00, 462.16it/s]\n",
      "100%|██████████| 200/200 [00:00<00:00, 498.63it/s]\n",
      "100%|██████████| 200/200 [00:00<00:00, 481.32it/s]\n",
      "100%|██████████| 200/200 [00:00<00:00, 493.07it/s]\n",
      "100%|██████████| 200/200 [00:00<00:00, 474.46it/s]\n",
      "100%|██████████| 200/200 [00:00<00:00, 487.66it/s]\n",
      "100%|██████████| 200/200 [00:00<00:00, 449.45it/s]\n",
      "100%|██████████| 200/200 [00:00<00:00, 487.00it/s]\n",
      "100%|██████████| 200/200 [00:00<00:00, 470.56it/s]\n",
      "100%|██████████| 200/200 [00:00<00:00, 493.61it/s]\n",
      "100%|██████████| 200/200 [00:00<00:00, 465.33it/s]\n",
      "100%|██████████| 200/200 [00:00<00:00, 475.96it/s]"
     ]
    },
    {
     "name": "stdout",
     "output_type": "stream",
     "text": [
      "Final episode reward for 10 different policies learned by SARSA:\n",
      "[-15.0, -15.0, -16.0, -500.0, -17.0, -500.0, -500.0, -17.0, -16.0, -15.0]\n",
      "\n",
      "Final episode reward for 10 different policies learned by Q-learning:\n",
      "[-15.0, -15.0, -15.0, -15.0, -15.0, -15.0, -15.0, -15.0, -15.0, -15.0]\n"
     ]
    },
    {
     "name": "stderr",
     "output_type": "stream",
     "text": [
      "\n"
     ]
    }
   ],
   "source": [
    "def eval_TD_learning(env, Q):\n",
    "    # Function to evaluate a greedy policy\n",
    "\n",
    "    # initialize S and R\n",
    "    state = env.reset()\n",
    "    R = 0\n",
    "\n",
    "    # keep track of number of steps taken, policy might not get to ending \n",
    "    counter = 0\n",
    "\n",
    "    # run episode until terminal state (set maximum amount of steps that can be taken)\n",
    "    done = False\n",
    "    while not done and counter < 500: \n",
    "        # choose action according to greedy policy\n",
    "        action = np.argmax(Q[state])   \n",
    "\n",
    "        # take action, observe reward\n",
    "        state_prime, reward, done, _ = env.step(action)\n",
    "\n",
    "        # update variables\n",
    "        state = state_prime\n",
    "\n",
    "        # keep track of total reward\n",
    "        R += reward\n",
    "        counter += 1\n",
    "\n",
    "    return R\n",
    "\n",
    "# hyperparameters\n",
    "N = 10\n",
    "episodes = 200\n",
    "total_result_sarsa = []\n",
    "total_result_q_learning = []\n",
    "\n",
    "# train methods and evaluate policies N amount of times\n",
    "for i in range(N):\n",
    "    # get Q\n",
    "    Q_sarsa, (episode_lengths_sarsa, episode_returns_sarsa) = sarsa(env, episodes)\n",
    "    Q_q_learning, (episode_lengths_q_learning, episode_returns_q_learning) = q_learning(env, episodes)\n",
    "\n",
    "    # evaluate policy\n",
    "    result_sarsa = eval_TD_learning(env, Q_sarsa)\n",
    "    result_q_learning = eval_TD_learning(env, Q_q_learning)\n",
    "    \n",
    "    total_result_sarsa.append(result_sarsa)\n",
    "    total_result_q_learning.append(result_q_learning)\n",
    "\n",
    "print('Final episode reward for 10 different policies learned by SARSA:')\n",
    "print(total_result_sarsa)\n",
    "\n",
    "print()\n",
    "\n",
    "print('Final episode reward for 10 different policies learned by Q-learning:')\n",
    "print(total_result_q_learning)\n",
    "\n"
   ]
  },
  {
   "cell_type": "code",
   "execution_count": 37,
   "metadata": {},
   "outputs": [
    {
     "data": {
      "image/png": "[encoded data removed]",
      "text/plain": [
       "<Figure size 432x288 with 1 Axes>"
      ]
     },
     "metadata": {
      "needs_background": "light"
     },
     "output_type": "display_data"
    }
   ],
   "source": [
    "mean_sarsa = np.mean(total_result_sarsa)\n",
    "mean_q_learning = np.mean(total_result_q_learning)\n",
    "\n",
    "barlist=plt.bar(['Sarsa','Q-learning'], [mean_sarsa, mean_q_learning], width=0.5)\n",
    "barlist[0].set_color('r')\n",
    "\n",
    "plt.title('Mean reward over ' + str(N) +' runs')\n",
    "plt.show()"
   ]
  },
  {
   "cell_type": "markdown",
   "metadata": {},
   "source": [
    "**OUR ANSWER** \n",
    "\n",
    "Since both the environment and policy are now deterministic, you only need 1 run to evaluate the policy since it will always yield the same results. \n",
    "\n",
    "The reason for the big difference in performance between SARSA and Q-learning is caused by the fact that SARSA might get stuck in the WindyGridWorld by learning a policy that performs an action that is counteracted by the wind. This causes SARSA to constantly take the action that leads it back to its current state. We set the maximum amount of steps to 500 for the policy evaluation, otherwise it would just be stuck in an infinite loop. Q-learning is not susceptible to this problem, since the policy will not be updated based on (non-beneficial) explorative actions. \n",
    "\n",
    "In some runs the difference between the methods is less dramatic, due to the fact that SARSA then learns an explorative action that is not counteracted by the wind and can thus be accounted for during the run.\n",
    "\n",
    "Q-learning just learns the optimal path in its policy, exploration has no effect on updating the policy as long as it is not beneficial. Therefore, it will always yield the shortest path using a greedy policy in the WindyGridWorld.\n"
   ]
  }
 ],
 "metadata": {
  "kernelspec": {
   "display_name": "Python 3",
   "language": "python",
   "name": "python3"
  },
  "language_info": {
   "codemirror_mode": {
    "name": "ipython",
    "version": 3
   },
   "file_extension": ".py",
   "mimetype": "text/x-python",
   "name": "python",
   "nbconvert_exporter": "python",
   "pygments_lexer": "ipython3",
   "version": "3.6.6"
  }
 },
 "nbformat": 4,
 "nbformat_minor": 2
}
